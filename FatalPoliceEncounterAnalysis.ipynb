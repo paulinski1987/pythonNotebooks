{
  "cells": [
    {
      "cell_type": "markdown",
      "metadata": {
        "id": "cJ5n8gCCyPon"
      },
      "source": [
        "# Police Shootings in America - 2015 to 2022\n",
        "\n",
        "With the advent of smartphones and internet technology we as a society have become more aware of the issues that affect us all. One of those issues that has come to the forefront of public opinion is how the impact of police actions affect various communities. A couple decades ago issues such as police brutality and unjustifiable homicides were hidden from a large portion of the population. If a case made it into court involving a police officer murdering a civillian the officer was at a huge advantage as their word is held higher than that of a civillian.\n",
        "\n",
        "Now most people have the ability to video record police encouters and all sorts of abuses of power are being exposed to all segments of society and the people have gained some power to hold law enforcment accountable for their actions. \n",
        "\n",
        "For this sensitive a subject it is important to begin this process with an objective frame of mind. I will not be looking to prove, disprove, excuse or justify any actions by citizes or law enforcement. I will simply explore the data and see what insights I can discover based on that data. Regardless of circumstances a death is a tragic and will always hurt those around the deceased. Investigating the data is one of the tools available to work towards a better functioning society.\n",
        "\n",
        "This dataset comes from the *Washington Post* which has been tracking police shootings since 2015. It records circumstances such as the manner of death, whether the suspect was armed, the presence of mental illness, age, sex, ethnicity and others. The dataset is available on [Kaggle](https://www.kaggle.com/datasets/ramjasmaurya/us-police-shootings-from-20152022) as well as a more detailed integrated dataset from [Mapping Police Violence](https://mappingpoliceviolence.org/).\n",
        "\n",
        "In this notebook will explore how things like race, mental illness, location, sex, and situational circumstances are involved in fatal encounters with police. I will be using the standard python data science libraries such as `pandas` and `numpy` to manipulate the data as well as visualization libraries such as `matplotlib`, `seaborn`, and `plotly` to explore the data visually.\n",
        "\n",
        "One last thing; while data exploration is a powerful tool in the search for truth it is impossible to be completely free of any bias. The data collection process could be subject to bias as well as the conclusion a person comes to. Most important to remember in this sensitive subject is that **correlation does not equal causation**."
      ]
    },
    {
      "cell_type": "markdown",
      "metadata": {
        "id": "zU6Y8O0tyPoq"
      },
      "source": [
        "## Downloading the Dataset\n",
        "\n",
        "First thing to do is aquire the data. As I said above I will be using data from the Washington Post that has been uploaded to Kaggle [here](https://www.kaggle.com/datasets/ramjasmaurya/us-police-shootings-from-20152022). While is is possible to download from Kaggle without using any external libraries `opendatasets` makes the process a whole lot simpler and so I now swear by it. Once it is downloaded it is just a quick call to pandas `read_csv()` function to load the data into a dataframe that will be used throughout this notebook."
      ]
    },
    {
      "cell_type": "code",
      "execution_count": null,
      "metadata": {
        "id": "1lpDja-syPoq"
      },
      "outputs": [],
      "source": [
        "!pip install jovian opendatasets "
      ]
    },
    {
      "cell_type": "markdown",
      "metadata": {
        "id": "x_sHUtyVyPor"
      },
      "source": [
        "Let's begin by downloading the data, and listing the files within the dataset."
      ]
    },
    {
      "cell_type": "code",
      "execution_count": null,
      "metadata": {
        "id": "o18O7K2IyPor"
      },
      "outputs": [],
      "source": [
        "# Change this\n",
        "dataset_url = 'https://www.kaggle.com/datasets/ramjasmaurya/us-police-shootings-from-20152022' "
      ]
    },
    {
      "cell_type": "code",
      "execution_count": null,
      "metadata": {
        "colab": {
          "base_uri": "https://localhost:8080/"
        },
        "id": "Q2J3WJF3yPos",
        "outputId": "2caafe9b-b1c6-48fa-bea5-f478c41c95ac"
      },
      "outputs": [
        {
          "output_type": "stream",
          "name": "stdout",
          "text": [
            "Please provide your Kaggle credentials to download this dataset. Learn more: http://bit.ly/kaggle-creds\n",
            "Your Kaggle username: paulinski19871987\n",
            "Your Kaggle Key: ··········\n",
            "Downloading us-police-shootings-from-20152022.zip to ./us-police-shootings-from-20152022\n"
          ]
        },
        {
          "output_type": "stream",
          "name": "stderr",
          "text": [
            "100%|██████████| 243k/243k [00:00<00:00, 67.7MB/s]"
          ]
        },
        {
          "output_type": "stream",
          "name": "stdout",
          "text": [
            "\n"
          ]
        },
        {
          "output_type": "stream",
          "name": "stderr",
          "text": [
            "\n"
          ]
        }
      ],
      "source": [
        "import opendatasets as od\n",
        "od.download(dataset_url)"
      ]
    },
    {
      "cell_type": "markdown",
      "metadata": {
        "id": "4q3Tmau4yPot"
      },
      "source": [
        "The dataset has been downloaded and extracted."
      ]
    },
    {
      "cell_type": "code",
      "execution_count": null,
      "metadata": {
        "id": "RAzF8YCyyPot"
      },
      "outputs": [],
      "source": [
        "# Change this\n",
        "data_dir = './us-police-shootings-from-20152022'"
      ]
    },
    {
      "cell_type": "code",
      "execution_count": null,
      "metadata": {
        "colab": {
          "base_uri": "https://localhost:8080/"
        },
        "id": "eD5KFBV1yPou",
        "outputId": "b3ed3922-c5f7-4ef7-d895-386207c262e1"
      },
      "outputs": [
        {
          "output_type": "execute_result",
          "data": {
            "text/plain": [
              "['US Police shootings in from 2015-22.csv']"
            ]
          },
          "metadata": {},
          "execution_count": 6
        }
      ],
      "source": [
        "import os\n",
        "os.listdir(data_dir)"
      ]
    },
    {
      "cell_type": "markdown",
      "metadata": {
        "id": "heGRy0mFyPox"
      },
      "source": [
        "## Data Preparation and Cleaning\n",
        "\n",
        "Before doing any in depth exploration I will need to check out the basic structure of the dataset. First I will check the number of rows and columns as well as each features data type. Next I will remove a couple features that are not needed for this analysis. Afterwards I will locate and handle any missing or invalid values and then convert some of the columns into boolean variables to simplify while retaining the important information.\n",
        "\n"
      ]
    },
    {
      "cell_type": "markdown",
      "source": [
        "Load the downloaded csv file into a **Pandas Dataframe** and take a quick peek using `DataFrame.head()`."
      ],
      "metadata": {
        "id": "1XhNlewbFGwS"
      }
    },
    {
      "cell_type": "code",
      "execution_count": null,
      "metadata": {
        "colab": {
          "base_uri": "https://localhost:8080/",
          "height": 357
        },
        "id": "zkNUGwTryPoy",
        "outputId": "a41c712f-ad69-4511-c212-2e127925f997"
      },
      "outputs": [
        {
          "output_type": "execute_result",
          "data": {
            "text/plain": [
              "   id                name        date   manner_of_death       armed   age  \\\n",
              "0   1          Tim Elliot  2015-01-02              shot         gun  53.0   \n",
              "1   2    Lewis Lee Lembke  2015-01-02              shot         gun  47.0   \n",
              "2   3  John Paul Quintero  2015-01-03  shot and Tasered     unarmed  23.0   \n",
              "3   4     Matthew Hoffman  2015-01-04              shot  toy weapon  32.0   \n",
              "4   5   Michael Rodriguez  2015-01-04              shot    nail gun  39.0   \n",
              "\n",
              "  gender race           city state  signs_of_mental_illness threat_level  \\\n",
              "0      M    A        Shelton    WA                     True       attack   \n",
              "1      M    W          Aloha    OR                    False       attack   \n",
              "2      M    H        Wichita    KS                    False        other   \n",
              "3      M    W  San Francisco    CA                     True       attack   \n",
              "4      M    H          Evans    CO                    False       attack   \n",
              "\n",
              "          flee  body_camera  longitude  latitude  is_geocoding_exact  \n",
              "0  Not fleeing        False   -123.122    47.247                True  \n",
              "1  Not fleeing        False   -122.892    45.487                True  \n",
              "2  Not fleeing        False    -97.281    37.695                True  \n",
              "3  Not fleeing        False   -122.422    37.763                True  \n",
              "4  Not fleeing        False   -104.692    40.384                True  "
            ],
            "text/html": [
              "\n",
              "  <div id=\"df-f378c929-bdd9-4b07-88da-0fb1560000bd\">\n",
              "    <div class=\"colab-df-container\">\n",
              "      <div>\n",
              "<style scoped>\n",
              "    .dataframe tbody tr th:only-of-type {\n",
              "        vertical-align: middle;\n",
              "    }\n",
              "\n",
              "    .dataframe tbody tr th {\n",
              "        vertical-align: top;\n",
              "    }\n",
              "\n",
              "    .dataframe thead th {\n",
              "        text-align: right;\n",
              "    }\n",
              "</style>\n",
              "<table border=\"1\" class=\"dataframe\">\n",
              "  <thead>\n",
              "    <tr style=\"text-align: right;\">\n",
              "      <th></th>\n",
              "      <th>id</th>\n",
              "      <th>name</th>\n",
              "      <th>date</th>\n",
              "      <th>manner_of_death</th>\n",
              "      <th>armed</th>\n",
              "      <th>age</th>\n",
              "      <th>gender</th>\n",
              "      <th>race</th>\n",
              "      <th>city</th>\n",
              "      <th>state</th>\n",
              "      <th>signs_of_mental_illness</th>\n",
              "      <th>threat_level</th>\n",
              "      <th>flee</th>\n",
              "      <th>body_camera</th>\n",
              "      <th>longitude</th>\n",
              "      <th>latitude</th>\n",
              "      <th>is_geocoding_exact</th>\n",
              "    </tr>\n",
              "  </thead>\n",
              "  <tbody>\n",
              "    <tr>\n",
              "      <th>0</th>\n",
              "      <td>1</td>\n",
              "      <td>Tim Elliot</td>\n",
              "      <td>2015-01-02</td>\n",
              "      <td>shot</td>\n",
              "      <td>gun</td>\n",
              "      <td>53.0</td>\n",
              "      <td>M</td>\n",
              "      <td>A</td>\n",
              "      <td>Shelton</td>\n",
              "      <td>WA</td>\n",
              "      <td>True</td>\n",
              "      <td>attack</td>\n",
              "      <td>Not fleeing</td>\n",
              "      <td>False</td>\n",
              "      <td>-123.122</td>\n",
              "      <td>47.247</td>\n",
              "      <td>True</td>\n",
              "    </tr>\n",
              "    <tr>\n",
              "      <th>1</th>\n",
              "      <td>2</td>\n",
              "      <td>Lewis Lee Lembke</td>\n",
              "      <td>2015-01-02</td>\n",
              "      <td>shot</td>\n",
              "      <td>gun</td>\n",
              "      <td>47.0</td>\n",
              "      <td>M</td>\n",
              "      <td>W</td>\n",
              "      <td>Aloha</td>\n",
              "      <td>OR</td>\n",
              "      <td>False</td>\n",
              "      <td>attack</td>\n",
              "      <td>Not fleeing</td>\n",
              "      <td>False</td>\n",
              "      <td>-122.892</td>\n",
              "      <td>45.487</td>\n",
              "      <td>True</td>\n",
              "    </tr>\n",
              "    <tr>\n",
              "      <th>2</th>\n",
              "      <td>3</td>\n",
              "      <td>John Paul Quintero</td>\n",
              "      <td>2015-01-03</td>\n",
              "      <td>shot and Tasered</td>\n",
              "      <td>unarmed</td>\n",
              "      <td>23.0</td>\n",
              "      <td>M</td>\n",
              "      <td>H</td>\n",
              "      <td>Wichita</td>\n",
              "      <td>KS</td>\n",
              "      <td>False</td>\n",
              "      <td>other</td>\n",
              "      <td>Not fleeing</td>\n",
              "      <td>False</td>\n",
              "      <td>-97.281</td>\n",
              "      <td>37.695</td>\n",
              "      <td>True</td>\n",
              "    </tr>\n",
              "    <tr>\n",
              "      <th>3</th>\n",
              "      <td>4</td>\n",
              "      <td>Matthew Hoffman</td>\n",
              "      <td>2015-01-04</td>\n",
              "      <td>shot</td>\n",
              "      <td>toy weapon</td>\n",
              "      <td>32.0</td>\n",
              "      <td>M</td>\n",
              "      <td>W</td>\n",
              "      <td>San Francisco</td>\n",
              "      <td>CA</td>\n",
              "      <td>True</td>\n",
              "      <td>attack</td>\n",
              "      <td>Not fleeing</td>\n",
              "      <td>False</td>\n",
              "      <td>-122.422</td>\n",
              "      <td>37.763</td>\n",
              "      <td>True</td>\n",
              "    </tr>\n",
              "    <tr>\n",
              "      <th>4</th>\n",
              "      <td>5</td>\n",
              "      <td>Michael Rodriguez</td>\n",
              "      <td>2015-01-04</td>\n",
              "      <td>shot</td>\n",
              "      <td>nail gun</td>\n",
              "      <td>39.0</td>\n",
              "      <td>M</td>\n",
              "      <td>H</td>\n",
              "      <td>Evans</td>\n",
              "      <td>CO</td>\n",
              "      <td>False</td>\n",
              "      <td>attack</td>\n",
              "      <td>Not fleeing</td>\n",
              "      <td>False</td>\n",
              "      <td>-104.692</td>\n",
              "      <td>40.384</td>\n",
              "      <td>True</td>\n",
              "    </tr>\n",
              "  </tbody>\n",
              "</table>\n",
              "</div>\n",
              "      <button class=\"colab-df-convert\" onclick=\"convertToInteractive('df-f378c929-bdd9-4b07-88da-0fb1560000bd')\"\n",
              "              title=\"Convert this dataframe to an interactive table.\"\n",
              "              style=\"display:none;\">\n",
              "        \n",
              "  <svg xmlns=\"http://www.w3.org/2000/svg\" height=\"24px\"viewBox=\"0 0 24 24\"\n",
              "       width=\"24px\">\n",
              "    <path d=\"M0 0h24v24H0V0z\" fill=\"none\"/>\n",
              "    <path d=\"M18.56 5.44l.94 2.06.94-2.06 2.06-.94-2.06-.94-.94-2.06-.94 2.06-2.06.94zm-11 1L8.5 8.5l.94-2.06 2.06-.94-2.06-.94L8.5 2.5l-.94 2.06-2.06.94zm10 10l.94 2.06.94-2.06 2.06-.94-2.06-.94-.94-2.06-.94 2.06-2.06.94z\"/><path d=\"M17.41 7.96l-1.37-1.37c-.4-.4-.92-.59-1.43-.59-.52 0-1.04.2-1.43.59L10.3 9.45l-7.72 7.72c-.78.78-.78 2.05 0 2.83L4 21.41c.39.39.9.59 1.41.59.51 0 1.02-.2 1.41-.59l7.78-7.78 2.81-2.81c.8-.78.8-2.07 0-2.86zM5.41 20L4 18.59l7.72-7.72 1.47 1.35L5.41 20z\"/>\n",
              "  </svg>\n",
              "      </button>\n",
              "      \n",
              "  <style>\n",
              "    .colab-df-container {\n",
              "      display:flex;\n",
              "      flex-wrap:wrap;\n",
              "      gap: 12px;\n",
              "    }\n",
              "\n",
              "    .colab-df-convert {\n",
              "      background-color: #E8F0FE;\n",
              "      border: none;\n",
              "      border-radius: 50%;\n",
              "      cursor: pointer;\n",
              "      display: none;\n",
              "      fill: #1967D2;\n",
              "      height: 32px;\n",
              "      padding: 0 0 0 0;\n",
              "      width: 32px;\n",
              "    }\n",
              "\n",
              "    .colab-df-convert:hover {\n",
              "      background-color: #E2EBFA;\n",
              "      box-shadow: 0px 1px 2px rgba(60, 64, 67, 0.3), 0px 1px 3px 1px rgba(60, 64, 67, 0.15);\n",
              "      fill: #174EA6;\n",
              "    }\n",
              "\n",
              "    [theme=dark] .colab-df-convert {\n",
              "      background-color: #3B4455;\n",
              "      fill: #D2E3FC;\n",
              "    }\n",
              "\n",
              "    [theme=dark] .colab-df-convert:hover {\n",
              "      background-color: #434B5C;\n",
              "      box-shadow: 0px 1px 3px 1px rgba(0, 0, 0, 0.15);\n",
              "      filter: drop-shadow(0px 1px 2px rgba(0, 0, 0, 0.3));\n",
              "      fill: #FFFFFF;\n",
              "    }\n",
              "  </style>\n",
              "\n",
              "      <script>\n",
              "        const buttonEl =\n",
              "          document.querySelector('#df-f378c929-bdd9-4b07-88da-0fb1560000bd button.colab-df-convert');\n",
              "        buttonEl.style.display =\n",
              "          google.colab.kernel.accessAllowed ? 'block' : 'none';\n",
              "\n",
              "        async function convertToInteractive(key) {\n",
              "          const element = document.querySelector('#df-f378c929-bdd9-4b07-88da-0fb1560000bd');\n",
              "          const dataTable =\n",
              "            await google.colab.kernel.invokeFunction('convertToInteractive',\n",
              "                                                     [key], {});\n",
              "          if (!dataTable) return;\n",
              "\n",
              "          const docLinkHtml = 'Like what you see? Visit the ' +\n",
              "            '<a target=\"_blank\" href=https://colab.research.google.com/notebooks/data_table.ipynb>data table notebook</a>'\n",
              "            + ' to learn more about interactive tables.';\n",
              "          element.innerHTML = '';\n",
              "          dataTable['output_type'] = 'display_data';\n",
              "          await google.colab.output.renderOutput(dataTable, element);\n",
              "          const docLink = document.createElement('div');\n",
              "          docLink.innerHTML = docLinkHtml;\n",
              "          element.appendChild(docLink);\n",
              "        }\n",
              "      </script>\n",
              "    </div>\n",
              "  </div>\n",
              "  "
            ]
          },
          "metadata": {},
          "execution_count": 10
        }
      ],
      "source": [
        "import pandas as pd\n",
        "import numpy as np\n",
        "\n",
        "deaths_df = pd.read_csv(data_dir + '/US Police shootings in from 2015-22.csv')\n",
        "deaths_df.head()"
      ]
    },
    {
      "cell_type": "markdown",
      "source": [
        "Here is a list of the feature names included"
      ],
      "metadata": {
        "id": "Vj3EiiIiNJC-"
      }
    },
    {
      "cell_type": "code",
      "execution_count": null,
      "metadata": {
        "colab": {
          "base_uri": "https://localhost:8080/"
        },
        "id": "RGqDhiKKyPoy",
        "outputId": "f8279cc4-9b1b-48f3-a11a-54749faeb72d"
      },
      "outputs": [
        {
          "output_type": "execute_result",
          "data": {
            "text/plain": [
              "Index(['id', 'name', 'date', 'manner_of_death', 'armed', 'age', 'gender',\n",
              "       'race', 'city', 'state', 'signs_of_mental_illness', 'threat_level',\n",
              "       'flee', 'body_camera', 'longitude', 'latitude', 'is_geocoding_exact'],\n",
              "      dtype='object')"
            ]
          },
          "metadata": {},
          "execution_count": 11
        }
      ],
      "source": [
        "deaths_df.columns"
      ]
    },
    {
      "cell_type": "markdown",
      "source": [
        "The number of rows and columns"
      ],
      "metadata": {
        "id": "WZHqWmf6NP1V"
      }
    },
    {
      "cell_type": "code",
      "execution_count": null,
      "metadata": {
        "colab": {
          "base_uri": "https://localhost:8080/"
        },
        "id": "Iy4cPBSyyPoy",
        "outputId": "c2839243-c750-4c76-a8a6-e9109b81fb0b"
      },
      "outputs": [
        {
          "output_type": "stream",
          "name": "stdout",
          "text": [
            "rows: 7729\tcolumns: 17\n"
          ]
        }
      ],
      "source": [
        "print(f\"rows: {deaths_df.shape[0]}\\tcolumns: {deaths_df.shape[1]}\")"
      ]
    },
    {
      "cell_type": "markdown",
      "source": [
        "There is some redundancy in this dataset, at least for my purposes here. I will remove the latitude, logitude and is_geocoding_exact columns as the city and state features provide enough location information. I will also drop the id and name columns as I am interested in overall patterns and not specific instances. \n",
        "\n",
        "Later on I may drop more columns such as the date, fleeing status and body camera. I may also get rid of either the city or the state column if both are not neccessary. Some analysis is needed before deciding on the utility of those features."
      ],
      "metadata": {
        "id": "Vvs5g9sfOHsA"
      }
    },
    {
      "cell_type": "code",
      "execution_count": null,
      "metadata": {
        "colab": {
          "base_uri": "https://localhost:8080/",
          "height": 162
        },
        "id": "z18r-RMXyPoz",
        "outputId": "c8a8f0f7-29a1-474f-d623-cfb6fb88129b"
      },
      "outputs": [
        {
          "output_type": "execute_result",
          "data": {
            "text/plain": [
              "         date manner_of_death armed   age gender race     city state  \\\n",
              "0  2015-01-02            shot   gun  53.0      M    A  Shelton    WA   \n",
              "\n",
              "   signs_of_mental_illness threat_level         flee  body_camera  \n",
              "0                     True       attack  Not fleeing        False  "
            ],
            "text/html": [
              "\n",
              "  <div id=\"df-240abbf0-6ab2-4731-8ecc-cd3988db8405\">\n",
              "    <div class=\"colab-df-container\">\n",
              "      <div>\n",
              "<style scoped>\n",
              "    .dataframe tbody tr th:only-of-type {\n",
              "        vertical-align: middle;\n",
              "    }\n",
              "\n",
              "    .dataframe tbody tr th {\n",
              "        vertical-align: top;\n",
              "    }\n",
              "\n",
              "    .dataframe thead th {\n",
              "        text-align: right;\n",
              "    }\n",
              "</style>\n",
              "<table border=\"1\" class=\"dataframe\">\n",
              "  <thead>\n",
              "    <tr style=\"text-align: right;\">\n",
              "      <th></th>\n",
              "      <th>date</th>\n",
              "      <th>manner_of_death</th>\n",
              "      <th>armed</th>\n",
              "      <th>age</th>\n",
              "      <th>gender</th>\n",
              "      <th>race</th>\n",
              "      <th>city</th>\n",
              "      <th>state</th>\n",
              "      <th>signs_of_mental_illness</th>\n",
              "      <th>threat_level</th>\n",
              "      <th>flee</th>\n",
              "      <th>body_camera</th>\n",
              "    </tr>\n",
              "  </thead>\n",
              "  <tbody>\n",
              "    <tr>\n",
              "      <th>0</th>\n",
              "      <td>2015-01-02</td>\n",
              "      <td>shot</td>\n",
              "      <td>gun</td>\n",
              "      <td>53.0</td>\n",
              "      <td>M</td>\n",
              "      <td>A</td>\n",
              "      <td>Shelton</td>\n",
              "      <td>WA</td>\n",
              "      <td>True</td>\n",
              "      <td>attack</td>\n",
              "      <td>Not fleeing</td>\n",
              "      <td>False</td>\n",
              "    </tr>\n",
              "  </tbody>\n",
              "</table>\n",
              "</div>\n",
              "      <button class=\"colab-df-convert\" onclick=\"convertToInteractive('df-240abbf0-6ab2-4731-8ecc-cd3988db8405')\"\n",
              "              title=\"Convert this dataframe to an interactive table.\"\n",
              "              style=\"display:none;\">\n",
              "        \n",
              "  <svg xmlns=\"http://www.w3.org/2000/svg\" height=\"24px\"viewBox=\"0 0 24 24\"\n",
              "       width=\"24px\">\n",
              "    <path d=\"M0 0h24v24H0V0z\" fill=\"none\"/>\n",
              "    <path d=\"M18.56 5.44l.94 2.06.94-2.06 2.06-.94-2.06-.94-.94-2.06-.94 2.06-2.06.94zm-11 1L8.5 8.5l.94-2.06 2.06-.94-2.06-.94L8.5 2.5l-.94 2.06-2.06.94zm10 10l.94 2.06.94-2.06 2.06-.94-2.06-.94-.94-2.06-.94 2.06-2.06.94z\"/><path d=\"M17.41 7.96l-1.37-1.37c-.4-.4-.92-.59-1.43-.59-.52 0-1.04.2-1.43.59L10.3 9.45l-7.72 7.72c-.78.78-.78 2.05 0 2.83L4 21.41c.39.39.9.59 1.41.59.51 0 1.02-.2 1.41-.59l7.78-7.78 2.81-2.81c.8-.78.8-2.07 0-2.86zM5.41 20L4 18.59l7.72-7.72 1.47 1.35L5.41 20z\"/>\n",
              "  </svg>\n",
              "      </button>\n",
              "      \n",
              "  <style>\n",
              "    .colab-df-container {\n",
              "      display:flex;\n",
              "      flex-wrap:wrap;\n",
              "      gap: 12px;\n",
              "    }\n",
              "\n",
              "    .colab-df-convert {\n",
              "      background-color: #E8F0FE;\n",
              "      border: none;\n",
              "      border-radius: 50%;\n",
              "      cursor: pointer;\n",
              "      display: none;\n",
              "      fill: #1967D2;\n",
              "      height: 32px;\n",
              "      padding: 0 0 0 0;\n",
              "      width: 32px;\n",
              "    }\n",
              "\n",
              "    .colab-df-convert:hover {\n",
              "      background-color: #E2EBFA;\n",
              "      box-shadow: 0px 1px 2px rgba(60, 64, 67, 0.3), 0px 1px 3px 1px rgba(60, 64, 67, 0.15);\n",
              "      fill: #174EA6;\n",
              "    }\n",
              "\n",
              "    [theme=dark] .colab-df-convert {\n",
              "      background-color: #3B4455;\n",
              "      fill: #D2E3FC;\n",
              "    }\n",
              "\n",
              "    [theme=dark] .colab-df-convert:hover {\n",
              "      background-color: #434B5C;\n",
              "      box-shadow: 0px 1px 3px 1px rgba(0, 0, 0, 0.15);\n",
              "      filter: drop-shadow(0px 1px 2px rgba(0, 0, 0, 0.3));\n",
              "      fill: #FFFFFF;\n",
              "    }\n",
              "  </style>\n",
              "\n",
              "      <script>\n",
              "        const buttonEl =\n",
              "          document.querySelector('#df-240abbf0-6ab2-4731-8ecc-cd3988db8405 button.colab-df-convert');\n",
              "        buttonEl.style.display =\n",
              "          google.colab.kernel.accessAllowed ? 'block' : 'none';\n",
              "\n",
              "        async function convertToInteractive(key) {\n",
              "          const element = document.querySelector('#df-240abbf0-6ab2-4731-8ecc-cd3988db8405');\n",
              "          const dataTable =\n",
              "            await google.colab.kernel.invokeFunction('convertToInteractive',\n",
              "                                                     [key], {});\n",
              "          if (!dataTable) return;\n",
              "\n",
              "          const docLinkHtml = 'Like what you see? Visit the ' +\n",
              "            '<a target=\"_blank\" href=https://colab.research.google.com/notebooks/data_table.ipynb>data table notebook</a>'\n",
              "            + ' to learn more about interactive tables.';\n",
              "          element.innerHTML = '';\n",
              "          dataTable['output_type'] = 'display_data';\n",
              "          await google.colab.output.renderOutput(dataTable, element);\n",
              "          const docLink = document.createElement('div');\n",
              "          docLink.innerHTML = docLinkHtml;\n",
              "          element.appendChild(docLink);\n",
              "        }\n",
              "      </script>\n",
              "    </div>\n",
              "  </div>\n",
              "  "
            ]
          },
          "metadata": {},
          "execution_count": 13
        }
      ],
      "source": [
        "deaths_df.drop(['id', 'name', 'longitude', 'latitude', 'is_geocoding_exact'], axis=1, inplace=True)\n",
        "deaths_df.head(1)"
      ]
    },
    {
      "cell_type": "markdown",
      "source": [
        "Check datatypes and not-null values"
      ],
      "metadata": {
        "id": "OqwngyDiVg4X"
      }
    },
    {
      "cell_type": "code",
      "execution_count": null,
      "metadata": {
        "colab": {
          "base_uri": "https://localhost:8080/"
        },
        "id": "iWUp09y8yPoz",
        "outputId": "f03bbdce-4208-40cb-811e-697b61cd7aa0"
      },
      "outputs": [
        {
          "output_type": "stream",
          "name": "stdout",
          "text": [
            "<class 'pandas.core.frame.DataFrame'>\n",
            "RangeIndex: 7729 entries, 0 to 7728\n",
            "Data columns (total 12 columns):\n",
            " #   Column                   Non-Null Count  Dtype  \n",
            "---  ------                   --------------  -----  \n",
            " 0   date                     7729 non-null   object \n",
            " 1   manner_of_death          7729 non-null   object \n",
            " 2   armed                    7520 non-null   object \n",
            " 3   age                      7247 non-null   float64\n",
            " 4   gender                   7709 non-null   object \n",
            " 5   race                     6269 non-null   object \n",
            " 6   city                     7729 non-null   object \n",
            " 7   state                    7729 non-null   object \n",
            " 8   signs_of_mental_illness  7729 non-null   bool   \n",
            " 9   threat_level             7729 non-null   object \n",
            " 10  flee                     6854 non-null   object \n",
            " 11  body_camera              7729 non-null   bool   \n",
            "dtypes: bool(2), float64(1), object(9)\n",
            "memory usage: 619.0+ KB\n"
          ]
        }
      ],
      "source": [
        "deaths_df.info()"
      ]
    },
    {
      "cell_type": "markdown",
      "source": [
        "This dataset is reasonably large so rather than having to individually examine each columns invalid values and come up with multiple solutions to fix it I am just going to get rid of all rows with incomplete information."
      ],
      "metadata": {
        "id": "fFZDzOoWWSb2"
      }
    },
    {
      "cell_type": "code",
      "source": [
        "deaths_df.dropna(inplace=True)"
      ],
      "metadata": {
        "id": "pLqEl2jIcn1A"
      },
      "execution_count": null,
      "outputs": []
    },
    {
      "cell_type": "markdown",
      "source": [
        "Now to check that it worked"
      ],
      "metadata": {
        "id": "pYaFpjfdcxzA"
      }
    },
    {
      "cell_type": "code",
      "source": [
        "deaths_df.info()"
      ],
      "metadata": {
        "colab": {
          "base_uri": "https://localhost:8080/"
        },
        "id": "Mf4D5os0c1Dc",
        "outputId": "0ec95f58-40c4-4ae6-909e-1a3eaf8e1ee0"
      },
      "execution_count": null,
      "outputs": [
        {
          "output_type": "stream",
          "name": "stdout",
          "text": [
            "<class 'pandas.core.frame.DataFrame'>\n",
            "Int64Index: 5465 entries, 0 to 7726\n",
            "Data columns (total 12 columns):\n",
            " #   Column                   Non-Null Count  Dtype  \n",
            "---  ------                   --------------  -----  \n",
            " 0   date                     5465 non-null   object \n",
            " 1   manner_of_death          5465 non-null   object \n",
            " 2   armed                    5465 non-null   object \n",
            " 3   age                      5465 non-null   float64\n",
            " 4   gender                   5465 non-null   object \n",
            " 5   race                     5465 non-null   object \n",
            " 6   city                     5465 non-null   object \n",
            " 7   state                    5465 non-null   object \n",
            " 8   signs_of_mental_illness  5465 non-null   bool   \n",
            " 9   threat_level             5465 non-null   object \n",
            " 10  flee                     5465 non-null   object \n",
            " 11  body_camera              5465 non-null   bool   \n",
            "dtypes: bool(2), float64(1), object(9)\n",
            "memory usage: 480.3+ KB\n"
          ]
        }
      ]
    },
    {
      "cell_type": "markdown",
      "source": [
        "Excellent, now there are only valid entries to work with.\n",
        "\n",
        "Next I will examine the **armed** column and see what there is to work with. "
      ],
      "metadata": {
        "id": "RMlV_CHFc32u"
      }
    },
    {
      "cell_type": "code",
      "execution_count": null,
      "metadata": {
        "colab": {
          "base_uri": "https://localhost:8080/"
        },
        "id": "ZmbcJk5AyPoz",
        "outputId": "a6d977ac-277b-41a6-c2ee-16329880da9f"
      },
      "outputs": [
        {
          "output_type": "execute_result",
          "data": {
            "text/plain": [
              "array(['gun', 'unarmed', 'toy weapon', 'nail gun', 'knife', 'shovel',\n",
              "       'vehicle', 'hammer', 'hatchet', 'sword', 'machete', 'box cutter',\n",
              "       'undetermined', 'metal object', 'screwdriver', 'lawn mower blade',\n",
              "       'flagpole', 'guns and explosives', 'cordless drill', 'BB gun',\n",
              "       'metal pole', 'Taser', 'metal pipe', 'metal hand tool',\n",
              "       'blunt object', 'metal stick', 'sharp object', 'meat cleaver',\n",
              "       'carjack', 'chain', \"contractor's level\", 'railroad spikes',\n",
              "       'stapler', 'beer bottle', 'crossbow', 'unknown weapon',\n",
              "       'binoculars', 'pellet gun', 'bean-bag gun',\n",
              "       'baseball bat and fireplace poker', 'straight edge razor',\n",
              "       'gun and knife', 'ax', 'brick', 'baseball bat', 'hand torch',\n",
              "       'chain saw', 'garden tool', 'pair of scissors', 'pole', 'pick-axe',\n",
              "       'flashlight', 'spear', 'chair', 'pitchfork', 'hatchet and gun',\n",
              "       'rock', 'piece of wood', 'glass shard', 'motorcycle',\n",
              "       'pepper spray', 'metal rake', 'baton', 'crowbar', 'oar',\n",
              "       'machete and gun', 'air conditioner', 'pole and knife', 'pipe',\n",
              "       'baseball bat and bottle', 'fireworks', 'pen', 'chainsaw',\n",
              "       'gun and sword', 'gun and car', 'incendiary device',\n",
              "       'samurai sword', 'bow and arrow', 'gun and vehicle',\n",
              "       'vehicle and gun', 'wrench', 'walking stick', 'barstool',\n",
              "       'BB gun and vehicle', 'wasp spray', 'air pistol',\n",
              "       'baseball bat and knife', 'vehicle and machete', 'ice pick',\n",
              "       'car, knife and mace', 'tire iron', 'bottle', 'gun and machete',\n",
              "       'Airsoft pistol', 'microphone', 'knife and vehicle',\n",
              "       'ax and machete'], dtype=object)"
            ]
          },
          "metadata": {},
          "execution_count": 17
        }
      ],
      "source": [
        "deaths_df['armed'].unique()"
      ]
    },
    {
      "cell_type": "markdown",
      "source": [
        "There are allot of different values pertaining to weapons, too many for this exercise. The absence or presence of a weapon is more important than the exact type of weapon as the police would respond the same to a suspect with a pipe or a pole. Here I will convert \"unarmed\" and \"undetermined\" to 'no' and everything else to 'yes'. "
      ],
      "metadata": {
        "id": "0bhn9TVkYXA7"
      }
    },
    {
      "cell_type": "markdown",
      "source": [
        "Convert **armed** values by applying a function to the column via the `Series.apply()` method from Pandas."
      ],
      "metadata": {
        "id": "j0V0JCnGZ1x0"
      }
    },
    {
      "cell_type": "code",
      "source": [
        "def convert_armed(status):\n",
        "  if status == 'unarmed' or status == 'undetermined':\n",
        "    return 'no'\n",
        "  else: return 'yes'"
      ],
      "metadata": {
        "id": "BZSzvA3XaRnV"
      },
      "execution_count": null,
      "outputs": []
    },
    {
      "cell_type": "code",
      "source": [
        "deaths_df['armed'] = deaths_df['armed'].apply(convert_armed)"
      ],
      "metadata": {
        "id": "Goj_2jHSaRgb"
      },
      "execution_count": null,
      "outputs": []
    },
    {
      "cell_type": "code",
      "source": [
        "deaths_df['armed'].unique()"
      ],
      "metadata": {
        "colab": {
          "base_uri": "https://localhost:8080/"
        },
        "id": "LyZaL4mEaRYb",
        "outputId": "bce8b703-a7b5-4a71-84d3-cd327c4afe00"
      },
      "execution_count": null,
      "outputs": [
        {
          "output_type": "execute_result",
          "data": {
            "text/plain": [
              "array(['yes', 'no'], dtype=object)"
            ]
          },
          "metadata": {},
          "execution_count": 20
        }
      ]
    },
    {
      "cell_type": "code",
      "source": [
        "deaths_df.info()"
      ],
      "metadata": {
        "colab": {
          "base_uri": "https://localhost:8080/"
        },
        "id": "V83mBLdWXGRA",
        "outputId": "68b0d64b-9012-4404-ef5c-4b5e5ea954f9"
      },
      "execution_count": null,
      "outputs": [
        {
          "output_type": "stream",
          "name": "stdout",
          "text": [
            "<class 'pandas.core.frame.DataFrame'>\n",
            "Int64Index: 5465 entries, 0 to 7726\n",
            "Data columns (total 12 columns):\n",
            " #   Column                   Non-Null Count  Dtype  \n",
            "---  ------                   --------------  -----  \n",
            " 0   date                     5465 non-null   object \n",
            " 1   manner_of_death          5465 non-null   object \n",
            " 2   armed                    5465 non-null   object \n",
            " 3   age                      5465 non-null   float64\n",
            " 4   gender                   5465 non-null   object \n",
            " 5   race                     5465 non-null   object \n",
            " 6   city                     5465 non-null   object \n",
            " 7   state                    5465 non-null   object \n",
            " 8   signs_of_mental_illness  5465 non-null   bool   \n",
            " 9   threat_level             5465 non-null   object \n",
            " 10  flee                     5465 non-null   object \n",
            " 11  body_camera              5465 non-null   bool   \n",
            "dtypes: bool(2), float64(1), object(9)\n",
            "memory usage: 480.3+ KB\n"
          ]
        }
      ]
    },
    {
      "cell_type": "markdown",
      "source": [
        "Lets see what unique values are in the **manner_of_death** column to determine their usefulness"
      ],
      "metadata": {
        "id": "Y0Kgqa1ZfgJI"
      }
    },
    {
      "cell_type": "code",
      "source": [
        "deaths_df['manner_of_death'].unique()"
      ],
      "metadata": {
        "colab": {
          "base_uri": "https://localhost:8080/"
        },
        "id": "iX82zBr7XGVu",
        "outputId": "c99617d0-6d3c-4518-efdb-fe7b4e109d0f"
      },
      "execution_count": null,
      "outputs": [
        {
          "output_type": "execute_result",
          "data": {
            "text/plain": [
              "array(['shot', 'shot and Tasered'], dtype=object)"
            ]
          },
          "metadata": {},
          "execution_count": 22
        }
      ]
    },
    {
      "cell_type": "markdown",
      "source": [
        "As this is a police shooting dataset and the only values for manner of death are \"shot\" and \"shot and tasered\" I think this column can be removed entirely"
      ],
      "metadata": {
        "id": "RVr-JNYNfxLJ"
      }
    },
    {
      "cell_type": "code",
      "source": [
        "deaths_df.drop('manner_of_death', axis=1, inplace=True)"
      ],
      "metadata": {
        "id": "efX7wP8FXGad"
      },
      "execution_count": null,
      "outputs": []
    },
    {
      "cell_type": "markdown",
      "source": [
        "Now to check the **threat_level** column"
      ],
      "metadata": {
        "id": "PHwuASBbgIc7"
      }
    },
    {
      "cell_type": "code",
      "source": [
        "deaths_df['threat_level'].unique()"
      ],
      "metadata": {
        "colab": {
          "base_uri": "https://localhost:8080/"
        },
        "id": "6Nq9qa6AXGew",
        "outputId": "84e1e23b-a5fc-4e8e-fd62-beb171d518b8"
      },
      "execution_count": null,
      "outputs": [
        {
          "output_type": "execute_result",
          "data": {
            "text/plain": [
              "array(['attack', 'other', 'undetermined'], dtype=object)"
            ]
          },
          "metadata": {},
          "execution_count": 24
        }
      ]
    },
    {
      "cell_type": "markdown",
      "source": [
        "I think this would be more useful as a simple yes/no value for whether the victim was attacking the police or not. I will follow a similar process to what was previously done for the armed column and then rename the column to \"violent\"."
      ],
      "metadata": {
        "id": "wj7ZFZcygdCb"
      }
    },
    {
      "cell_type": "code",
      "source": [
        "def threat(status):\n",
        "  if status == 'attack': return 'yes'\n",
        "  return 'no'\n",
        "\n",
        "deaths_df['threat_level'] = deaths_df['threat_level'].apply(threat)\n",
        "deaths_df['threat_level'].unique()"
      ],
      "metadata": {
        "colab": {
          "base_uri": "https://localhost:8080/"
        },
        "id": "Clxd6e7hgwju",
        "outputId": "7426391c-33e9-4abf-9bbd-a36c92a934bc"
      },
      "execution_count": null,
      "outputs": [
        {
          "output_type": "execute_result",
          "data": {
            "text/plain": [
              "array(['yes', 'no'], dtype=object)"
            ]
          },
          "metadata": {},
          "execution_count": 25
        }
      ]
    },
    {
      "cell_type": "code",
      "source": [
        "deaths_df.rename(columns={'threat_level': 'violent'}, inplace=True)"
      ],
      "metadata": {
        "id": "PKXh8oD_gwnm"
      },
      "execution_count": null,
      "outputs": []
    },
    {
      "cell_type": "code",
      "source": [
        "deaths_df.columns"
      ],
      "metadata": {
        "colab": {
          "base_uri": "https://localhost:8080/"
        },
        "id": "CA5OZ9ahgwqh",
        "outputId": "d6b8feb5-def5-487c-a931-058b8261e1a8"
      },
      "execution_count": null,
      "outputs": [
        {
          "output_type": "execute_result",
          "data": {
            "text/plain": [
              "Index(['date', 'armed', 'age', 'gender', 'race', 'city', 'state',\n",
              "       'signs_of_mental_illness', 'violent', 'flee', 'body_camera'],\n",
              "      dtype='object')"
            ]
          },
          "metadata": {},
          "execution_count": 27
        }
      ]
    },
    {
      "cell_type": "markdown",
      "source": [
        "Lets simplify the **flee** feature. It has multiple values that indicate the deceasaed was trying to run away from the cops. Personally I see this as a natural response to the threat of loss of freedom but despite that it escalates the situation and police response to the person.\n",
        "\n",
        "Anyways here are the values present in the **flee** column:"
      ],
      "metadata": {
        "id": "-pQKqfTNiOOO"
      }
    },
    {
      "cell_type": "code",
      "source": [
        "deaths_df['flee'].unique()"
      ],
      "metadata": {
        "colab": {
          "base_uri": "https://localhost:8080/"
        },
        "id": "dFUMOnrVgwt6",
        "outputId": "889dab9e-b1bf-4c6d-b145-f47989fa4fe4"
      },
      "execution_count": null,
      "outputs": [
        {
          "output_type": "execute_result",
          "data": {
            "text/plain": [
              "array(['Not fleeing', 'Car', 'Foot', 'Other'], dtype=object)"
            ]
          },
          "metadata": {},
          "execution_count": 28
        }
      ]
    },
    {
      "cell_type": "markdown",
      "source": [
        "Alright, I may find later than I need the detailed values but as it stands I think that **flee** can simply be changed into a yes or no value and then renamed to **fleeing** to avoid confusion."
      ],
      "metadata": {
        "id": "H1Rv6cE0ihk4"
      }
    },
    {
      "cell_type": "code",
      "source": [
        "def flee(status):\n",
        "  if status == 'Not fleeing': return 'no'\n",
        "  return 'yes'\n",
        "\n",
        "deaths_df['flee'] = deaths_df['flee'].apply(flee)\n",
        "deaths_df.rename(columns={'flee': 'fleeing'}, inplace=True)\n",
        "deaths_df['fleeing'].unique()"
      ],
      "metadata": {
        "colab": {
          "base_uri": "https://localhost:8080/"
        },
        "id": "HcR8e1vCi2Jm",
        "outputId": "5faecade-1b66-425b-d08c-c68678e20a57"
      },
      "execution_count": null,
      "outputs": [
        {
          "output_type": "execute_result",
          "data": {
            "text/plain": [
              "array(['no', 'yes'], dtype=object)"
            ]
          },
          "metadata": {},
          "execution_count": 29
        }
      ]
    },
    {
      "cell_type": "markdown",
      "source": [
        "Here I will change the mental illenss value to a yes/no instead of True/False. This will be helpful later on for visualizations."
      ],
      "metadata": {
        "id": "NgumMXYMenC3"
      }
    },
    {
      "cell_type": "code",
      "source": [
        "def mentally_ill(status):\n",
        "  if status == True: return 'yes'\n",
        "  return 'no'\n",
        "\n",
        "deaths_df['signs_of_mental_illness'] = deaths_df['signs_of_mental_illness'].apply(mentally_ill)"
      ],
      "metadata": {
        "id": "Q3HG5Uv7emgS"
      },
      "execution_count": null,
      "outputs": []
    },
    {
      "cell_type": "markdown",
      "source": [
        "Perhaps the date column datatype should we switched from an object to datetime."
      ],
      "metadata": {
        "id": "H7ZkLRbGjpWh"
      }
    },
    {
      "cell_type": "code",
      "source": [
        "deaths_df['date'] = pd.to_datetime(deaths_df['date'])"
      ],
      "metadata": {
        "id": "IN78l1emjxK7"
      },
      "execution_count": null,
      "outputs": []
    },
    {
      "cell_type": "code",
      "source": [
        "deaths_df.info()"
      ],
      "metadata": {
        "colab": {
          "base_uri": "https://localhost:8080/"
        },
        "id": "yfXeTeSui2YT",
        "outputId": "18e9c220-cde1-45f2-946f-c0aea98db233"
      },
      "execution_count": null,
      "outputs": [
        {
          "output_type": "stream",
          "name": "stdout",
          "text": [
            "<class 'pandas.core.frame.DataFrame'>\n",
            "Int64Index: 5465 entries, 0 to 7726\n",
            "Data columns (total 11 columns):\n",
            " #   Column                   Non-Null Count  Dtype         \n",
            "---  ------                   --------------  -----         \n",
            " 0   date                     5465 non-null   datetime64[ns]\n",
            " 1   armed                    5465 non-null   object        \n",
            " 2   age                      5465 non-null   float64       \n",
            " 3   gender                   5465 non-null   object        \n",
            " 4   race                     5465 non-null   object        \n",
            " 5   city                     5465 non-null   object        \n",
            " 6   state                    5465 non-null   object        \n",
            " 7   signs_of_mental_illness  5465 non-null   object        \n",
            " 8   violent                  5465 non-null   object        \n",
            " 9   fleeing                  5465 non-null   object        \n",
            " 10  body_camera              5465 non-null   bool          \n",
            "dtypes: bool(1), datetime64[ns](1), float64(1), object(8)\n",
            "memory usage: 475.0+ KB\n"
          ]
        }
      ]
    },
    {
      "cell_type": "markdown",
      "metadata": {
        "id": "dHxGh9usyPo0"
      },
      "source": [
        "## Exploratory Analysis and Visualization\n",
        "\n",
        "Here we will explore the distributions of:\n",
        "- Race/Ethnicity\n",
        "- Location/State of the deaths\n",
        "- Age of the victims\n",
        "- Violent behaviour\n",
        "- Mental illness\n",
        "\n"
      ]
    },
    {
      "cell_type": "markdown",
      "metadata": {
        "id": "HLqvG5rDyPo1"
      },
      "source": [
        "Let's begin by importing`matplotlib.pyplot` and `seaborn`."
      ]
    },
    {
      "cell_type": "code",
      "execution_count": null,
      "metadata": {
        "id": "dD8G3z-SyPo1"
      },
      "outputs": [],
      "source": [
        "import seaborn as sns\n",
        "import matplotlib\n",
        "import matplotlib.pyplot as plt\n",
        "%matplotlib inline\n",
        "\n",
        "sns.set_style('darkgrid')\n",
        "matplotlib.rcParams['font.size'] = 14\n",
        "matplotlib.rcParams['figure.figsize'] = (9, 5)\n",
        "matplotlib.rcParams['figure.facecolor'] = '#00000000'"
      ]
    },
    {
      "cell_type": "markdown",
      "source": [
        "Most of the data is now categorical/boolean so age is the only numeric feature. Lets check out the statistical distributions of the age values."
      ],
      "metadata": {
        "id": "eDQCdtDwkSmy"
      }
    },
    {
      "cell_type": "code",
      "source": [
        "deaths_df.describe()"
      ],
      "metadata": {
        "colab": {
          "base_uri": "https://localhost:8080/",
          "height": 300
        },
        "id": "er4Ni0JNkcdb",
        "outputId": "d20aacbf-6214-4294-af8e-ec6d630b3e66"
      },
      "execution_count": null,
      "outputs": [
        {
          "output_type": "execute_result",
          "data": {
            "text/plain": [
              "               age\n",
              "count  5465.000000\n",
              "mean     36.729369\n",
              "std      12.651272\n",
              "min       6.000000\n",
              "25%      27.000000\n",
              "50%      35.000000\n",
              "75%      45.000000\n",
              "max      91.000000"
            ],
            "text/html": [
              "\n",
              "  <div id=\"df-5b1de44a-f67a-4f0c-ab8e-2433d3ab5dda\">\n",
              "    <div class=\"colab-df-container\">\n",
              "      <div>\n",
              "<style scoped>\n",
              "    .dataframe tbody tr th:only-of-type {\n",
              "        vertical-align: middle;\n",
              "    }\n",
              "\n",
              "    .dataframe tbody tr th {\n",
              "        vertical-align: top;\n",
              "    }\n",
              "\n",
              "    .dataframe thead th {\n",
              "        text-align: right;\n",
              "    }\n",
              "</style>\n",
              "<table border=\"1\" class=\"dataframe\">\n",
              "  <thead>\n",
              "    <tr style=\"text-align: right;\">\n",
              "      <th></th>\n",
              "      <th>age</th>\n",
              "    </tr>\n",
              "  </thead>\n",
              "  <tbody>\n",
              "    <tr>\n",
              "      <th>count</th>\n",
              "      <td>5465.000000</td>\n",
              "    </tr>\n",
              "    <tr>\n",
              "      <th>mean</th>\n",
              "      <td>36.729369</td>\n",
              "    </tr>\n",
              "    <tr>\n",
              "      <th>std</th>\n",
              "      <td>12.651272</td>\n",
              "    </tr>\n",
              "    <tr>\n",
              "      <th>min</th>\n",
              "      <td>6.000000</td>\n",
              "    </tr>\n",
              "    <tr>\n",
              "      <th>25%</th>\n",
              "      <td>27.000000</td>\n",
              "    </tr>\n",
              "    <tr>\n",
              "      <th>50%</th>\n",
              "      <td>35.000000</td>\n",
              "    </tr>\n",
              "    <tr>\n",
              "      <th>75%</th>\n",
              "      <td>45.000000</td>\n",
              "    </tr>\n",
              "    <tr>\n",
              "      <th>max</th>\n",
              "      <td>91.000000</td>\n",
              "    </tr>\n",
              "  </tbody>\n",
              "</table>\n",
              "</div>\n",
              "      <button class=\"colab-df-convert\" onclick=\"convertToInteractive('df-5b1de44a-f67a-4f0c-ab8e-2433d3ab5dda')\"\n",
              "              title=\"Convert this dataframe to an interactive table.\"\n",
              "              style=\"display:none;\">\n",
              "        \n",
              "  <svg xmlns=\"http://www.w3.org/2000/svg\" height=\"24px\"viewBox=\"0 0 24 24\"\n",
              "       width=\"24px\">\n",
              "    <path d=\"M0 0h24v24H0V0z\" fill=\"none\"/>\n",
              "    <path d=\"M18.56 5.44l.94 2.06.94-2.06 2.06-.94-2.06-.94-.94-2.06-.94 2.06-2.06.94zm-11 1L8.5 8.5l.94-2.06 2.06-.94-2.06-.94L8.5 2.5l-.94 2.06-2.06.94zm10 10l.94 2.06.94-2.06 2.06-.94-2.06-.94-.94-2.06-.94 2.06-2.06.94z\"/><path d=\"M17.41 7.96l-1.37-1.37c-.4-.4-.92-.59-1.43-.59-.52 0-1.04.2-1.43.59L10.3 9.45l-7.72 7.72c-.78.78-.78 2.05 0 2.83L4 21.41c.39.39.9.59 1.41.59.51 0 1.02-.2 1.41-.59l7.78-7.78 2.81-2.81c.8-.78.8-2.07 0-2.86zM5.41 20L4 18.59l7.72-7.72 1.47 1.35L5.41 20z\"/>\n",
              "  </svg>\n",
              "      </button>\n",
              "      \n",
              "  <style>\n",
              "    .colab-df-container {\n",
              "      display:flex;\n",
              "      flex-wrap:wrap;\n",
              "      gap: 12px;\n",
              "    }\n",
              "\n",
              "    .colab-df-convert {\n",
              "      background-color: #E8F0FE;\n",
              "      border: none;\n",
              "      border-radius: 50%;\n",
              "      cursor: pointer;\n",
              "      display: none;\n",
              "      fill: #1967D2;\n",
              "      height: 32px;\n",
              "      padding: 0 0 0 0;\n",
              "      width: 32px;\n",
              "    }\n",
              "\n",
              "    .colab-df-convert:hover {\n",
              "      background-color: #E2EBFA;\n",
              "      box-shadow: 0px 1px 2px rgba(60, 64, 67, 0.3), 0px 1px 3px 1px rgba(60, 64, 67, 0.15);\n",
              "      fill: #174EA6;\n",
              "    }\n",
              "\n",
              "    [theme=dark] .colab-df-convert {\n",
              "      background-color: #3B4455;\n",
              "      fill: #D2E3FC;\n",
              "    }\n",
              "\n",
              "    [theme=dark] .colab-df-convert:hover {\n",
              "      background-color: #434B5C;\n",
              "      box-shadow: 0px 1px 3px 1px rgba(0, 0, 0, 0.15);\n",
              "      filter: drop-shadow(0px 1px 2px rgba(0, 0, 0, 0.3));\n",
              "      fill: #FFFFFF;\n",
              "    }\n",
              "  </style>\n",
              "\n",
              "      <script>\n",
              "        const buttonEl =\n",
              "          document.querySelector('#df-5b1de44a-f67a-4f0c-ab8e-2433d3ab5dda button.colab-df-convert');\n",
              "        buttonEl.style.display =\n",
              "          google.colab.kernel.accessAllowed ? 'block' : 'none';\n",
              "\n",
              "        async function convertToInteractive(key) {\n",
              "          const element = document.querySelector('#df-5b1de44a-f67a-4f0c-ab8e-2433d3ab5dda');\n",
              "          const dataTable =\n",
              "            await google.colab.kernel.invokeFunction('convertToInteractive',\n",
              "                                                     [key], {});\n",
              "          if (!dataTable) return;\n",
              "\n",
              "          const docLinkHtml = 'Like what you see? Visit the ' +\n",
              "            '<a target=\"_blank\" href=https://colab.research.google.com/notebooks/data_table.ipynb>data table notebook</a>'\n",
              "            + ' to learn more about interactive tables.';\n",
              "          element.innerHTML = '';\n",
              "          dataTable['output_type'] = 'display_data';\n",
              "          await google.colab.output.renderOutput(dataTable, element);\n",
              "          const docLink = document.createElement('div');\n",
              "          docLink.innerHTML = docLinkHtml;\n",
              "          element.appendChild(docLink);\n",
              "        }\n",
              "      </script>\n",
              "    </div>\n",
              "  </div>\n",
              "  "
            ]
          },
          "metadata": {},
          "execution_count": 36
        }
      ]
    },
    {
      "cell_type": "markdown",
      "source": [
        "Right away there are a couple interesting insights to be found here. The youngest age  is 6 years old and the oldest is 91. Let's look into that."
      ],
      "metadata": {
        "id": "N8xMsgiLk-io"
      }
    },
    {
      "cell_type": "code",
      "source": [
        "small_child = deaths_df[deaths_df['age'] < 10]\n",
        "small_child"
      ],
      "metadata": {
        "colab": {
          "base_uri": "https://localhost:8080/",
          "height": 176
        },
        "id": "KGKgpDvGlwcZ",
        "outputId": "02a5118f-6096-4ca1-fe1e-6b23634952e0"
      },
      "execution_count": null,
      "outputs": [
        {
          "output_type": "execute_result",
          "data": {
            "text/plain": [
              "           date armed  age gender race        city state  \\\n",
              "833  2015-11-03    no  6.0      M    W  Marksville    LA   \n",
              "2899 2017-12-21    no  6.0      M    W     Schertz    TX   \n",
              "\n",
              "     signs_of_mental_illness violent fleeing  body_camera  \n",
              "833                       no      no     yes         True  \n",
              "2899                      no      no      no        False  "
            ],
            "text/html": [
              "\n",
              "  <div id=\"df-a43dc589-0d64-4aa7-83ef-dc93b6a51292\">\n",
              "    <div class=\"colab-df-container\">\n",
              "      <div>\n",
              "<style scoped>\n",
              "    .dataframe tbody tr th:only-of-type {\n",
              "        vertical-align: middle;\n",
              "    }\n",
              "\n",
              "    .dataframe tbody tr th {\n",
              "        vertical-align: top;\n",
              "    }\n",
              "\n",
              "    .dataframe thead th {\n",
              "        text-align: right;\n",
              "    }\n",
              "</style>\n",
              "<table border=\"1\" class=\"dataframe\">\n",
              "  <thead>\n",
              "    <tr style=\"text-align: right;\">\n",
              "      <th></th>\n",
              "      <th>date</th>\n",
              "      <th>armed</th>\n",
              "      <th>age</th>\n",
              "      <th>gender</th>\n",
              "      <th>race</th>\n",
              "      <th>city</th>\n",
              "      <th>state</th>\n",
              "      <th>signs_of_mental_illness</th>\n",
              "      <th>violent</th>\n",
              "      <th>fleeing</th>\n",
              "      <th>body_camera</th>\n",
              "    </tr>\n",
              "  </thead>\n",
              "  <tbody>\n",
              "    <tr>\n",
              "      <th>833</th>\n",
              "      <td>2015-11-03</td>\n",
              "      <td>no</td>\n",
              "      <td>6.0</td>\n",
              "      <td>M</td>\n",
              "      <td>W</td>\n",
              "      <td>Marksville</td>\n",
              "      <td>LA</td>\n",
              "      <td>no</td>\n",
              "      <td>no</td>\n",
              "      <td>yes</td>\n",
              "      <td>True</td>\n",
              "    </tr>\n",
              "    <tr>\n",
              "      <th>2899</th>\n",
              "      <td>2017-12-21</td>\n",
              "      <td>no</td>\n",
              "      <td>6.0</td>\n",
              "      <td>M</td>\n",
              "      <td>W</td>\n",
              "      <td>Schertz</td>\n",
              "      <td>TX</td>\n",
              "      <td>no</td>\n",
              "      <td>no</td>\n",
              "      <td>no</td>\n",
              "      <td>False</td>\n",
              "    </tr>\n",
              "  </tbody>\n",
              "</table>\n",
              "</div>\n",
              "      <button class=\"colab-df-convert\" onclick=\"convertToInteractive('df-a43dc589-0d64-4aa7-83ef-dc93b6a51292')\"\n",
              "              title=\"Convert this dataframe to an interactive table.\"\n",
              "              style=\"display:none;\">\n",
              "        \n",
              "  <svg xmlns=\"http://www.w3.org/2000/svg\" height=\"24px\"viewBox=\"0 0 24 24\"\n",
              "       width=\"24px\">\n",
              "    <path d=\"M0 0h24v24H0V0z\" fill=\"none\"/>\n",
              "    <path d=\"M18.56 5.44l.94 2.06.94-2.06 2.06-.94-2.06-.94-.94-2.06-.94 2.06-2.06.94zm-11 1L8.5 8.5l.94-2.06 2.06-.94-2.06-.94L8.5 2.5l-.94 2.06-2.06.94zm10 10l.94 2.06.94-2.06 2.06-.94-2.06-.94-.94-2.06-.94 2.06-2.06.94z\"/><path d=\"M17.41 7.96l-1.37-1.37c-.4-.4-.92-.59-1.43-.59-.52 0-1.04.2-1.43.59L10.3 9.45l-7.72 7.72c-.78.78-.78 2.05 0 2.83L4 21.41c.39.39.9.59 1.41.59.51 0 1.02-.2 1.41-.59l7.78-7.78 2.81-2.81c.8-.78.8-2.07 0-2.86zM5.41 20L4 18.59l7.72-7.72 1.47 1.35L5.41 20z\"/>\n",
              "  </svg>\n",
              "      </button>\n",
              "      \n",
              "  <style>\n",
              "    .colab-df-container {\n",
              "      display:flex;\n",
              "      flex-wrap:wrap;\n",
              "      gap: 12px;\n",
              "    }\n",
              "\n",
              "    .colab-df-convert {\n",
              "      background-color: #E8F0FE;\n",
              "      border: none;\n",
              "      border-radius: 50%;\n",
              "      cursor: pointer;\n",
              "      display: none;\n",
              "      fill: #1967D2;\n",
              "      height: 32px;\n",
              "      padding: 0 0 0 0;\n",
              "      width: 32px;\n",
              "    }\n",
              "\n",
              "    .colab-df-convert:hover {\n",
              "      background-color: #E2EBFA;\n",
              "      box-shadow: 0px 1px 2px rgba(60, 64, 67, 0.3), 0px 1px 3px 1px rgba(60, 64, 67, 0.15);\n",
              "      fill: #174EA6;\n",
              "    }\n",
              "\n",
              "    [theme=dark] .colab-df-convert {\n",
              "      background-color: #3B4455;\n",
              "      fill: #D2E3FC;\n",
              "    }\n",
              "\n",
              "    [theme=dark] .colab-df-convert:hover {\n",
              "      background-color: #434B5C;\n",
              "      box-shadow: 0px 1px 3px 1px rgba(0, 0, 0, 0.15);\n",
              "      filter: drop-shadow(0px 1px 2px rgba(0, 0, 0, 0.3));\n",
              "      fill: #FFFFFF;\n",
              "    }\n",
              "  </style>\n",
              "\n",
              "      <script>\n",
              "        const buttonEl =\n",
              "          document.querySelector('#df-a43dc589-0d64-4aa7-83ef-dc93b6a51292 button.colab-df-convert');\n",
              "        buttonEl.style.display =\n",
              "          google.colab.kernel.accessAllowed ? 'block' : 'none';\n",
              "\n",
              "        async function convertToInteractive(key) {\n",
              "          const element = document.querySelector('#df-a43dc589-0d64-4aa7-83ef-dc93b6a51292');\n",
              "          const dataTable =\n",
              "            await google.colab.kernel.invokeFunction('convertToInteractive',\n",
              "                                                     [key], {});\n",
              "          if (!dataTable) return;\n",
              "\n",
              "          const docLinkHtml = 'Like what you see? Visit the ' +\n",
              "            '<a target=\"_blank\" href=https://colab.research.google.com/notebooks/data_table.ipynb>data table notebook</a>'\n",
              "            + ' to learn more about interactive tables.';\n",
              "          element.innerHTML = '';\n",
              "          dataTable['output_type'] = 'display_data';\n",
              "          await google.colab.output.renderOutput(dataTable, element);\n",
              "          const docLink = document.createElement('div');\n",
              "          docLink.innerHTML = docLinkHtml;\n",
              "          element.appendChild(docLink);\n",
              "        }\n",
              "      </script>\n",
              "    </div>\n",
              "  </div>\n",
              "  "
            ]
          },
          "metadata": {},
          "execution_count": 37
        }
      ]
    },
    {
      "cell_type": "markdown",
      "source": [
        "This is a good example of where data doesn't tell the whole story. As shown above there were 2 examples of 6 year old children dying from a police officer. Neither were armed, mentally ill, violent or fleeing. Initially I saw this an was mortified, wondering how on earth could anyone justify shooting a dosile child.\n",
        "\n",
        "Later on I looked up these cases in order to find out more detail. In both cases the children were not the targets. One was hit by a stray bullet, the other was in a vehicle with someone who was being pursued by the police and got hit when they were taking down the driver. \n",
        "\n",
        "While still tragic these were not delliberate murders by the state, they were collateral damage. I was just going to change my insights after learning this but then I thought this was the perfect example of a case where the data does not show one of the most important aspects to the situation. This is why we must be careful with our interpretation of the data."
      ],
      "metadata": {
        "id": "nNaxobvVm50-"
      }
    },
    {
      "cell_type": "code",
      "source": [
        "elderly_victim = deaths_df[deaths_df['age'] == 91]\n",
        "elderly_victim"
      ],
      "metadata": {
        "colab": {
          "base_uri": "https://localhost:8080/",
          "height": 193
        },
        "id": "howQqbZdlxGo",
        "outputId": "998cd420-4ae6-4dc6-c819-3361dded5d1b"
      },
      "execution_count": null,
      "outputs": [
        {
          "output_type": "execute_result",
          "data": {
            "text/plain": [
              "           date armed   age gender race            city state  \\\n",
              "2157 2017-03-08   yes  91.0      M    W  Union Township    PA   \n",
              "5967 2021-01-09   yes  91.0      F    W     Victorville    CA   \n",
              "\n",
              "     signs_of_mental_illness violent fleeing  body_camera  \n",
              "2157                      no     yes      no        False  \n",
              "5967                      no     yes      no        False  "
            ],
            "text/html": [
              "\n",
              "  <div id=\"df-5fdafca8-59da-4d20-be20-c99d11d3346f\">\n",
              "    <div class=\"colab-df-container\">\n",
              "      <div>\n",
              "<style scoped>\n",
              "    .dataframe tbody tr th:only-of-type {\n",
              "        vertical-align: middle;\n",
              "    }\n",
              "\n",
              "    .dataframe tbody tr th {\n",
              "        vertical-align: top;\n",
              "    }\n",
              "\n",
              "    .dataframe thead th {\n",
              "        text-align: right;\n",
              "    }\n",
              "</style>\n",
              "<table border=\"1\" class=\"dataframe\">\n",
              "  <thead>\n",
              "    <tr style=\"text-align: right;\">\n",
              "      <th></th>\n",
              "      <th>date</th>\n",
              "      <th>armed</th>\n",
              "      <th>age</th>\n",
              "      <th>gender</th>\n",
              "      <th>race</th>\n",
              "      <th>city</th>\n",
              "      <th>state</th>\n",
              "      <th>signs_of_mental_illness</th>\n",
              "      <th>violent</th>\n",
              "      <th>fleeing</th>\n",
              "      <th>body_camera</th>\n",
              "    </tr>\n",
              "  </thead>\n",
              "  <tbody>\n",
              "    <tr>\n",
              "      <th>2157</th>\n",
              "      <td>2017-03-08</td>\n",
              "      <td>yes</td>\n",
              "      <td>91.0</td>\n",
              "      <td>M</td>\n",
              "      <td>W</td>\n",
              "      <td>Union Township</td>\n",
              "      <td>PA</td>\n",
              "      <td>no</td>\n",
              "      <td>yes</td>\n",
              "      <td>no</td>\n",
              "      <td>False</td>\n",
              "    </tr>\n",
              "    <tr>\n",
              "      <th>5967</th>\n",
              "      <td>2021-01-09</td>\n",
              "      <td>yes</td>\n",
              "      <td>91.0</td>\n",
              "      <td>F</td>\n",
              "      <td>W</td>\n",
              "      <td>Victorville</td>\n",
              "      <td>CA</td>\n",
              "      <td>no</td>\n",
              "      <td>yes</td>\n",
              "      <td>no</td>\n",
              "      <td>False</td>\n",
              "    </tr>\n",
              "  </tbody>\n",
              "</table>\n",
              "</div>\n",
              "      <button class=\"colab-df-convert\" onclick=\"convertToInteractive('df-5fdafca8-59da-4d20-be20-c99d11d3346f')\"\n",
              "              title=\"Convert this dataframe to an interactive table.\"\n",
              "              style=\"display:none;\">\n",
              "        \n",
              "  <svg xmlns=\"http://www.w3.org/2000/svg\" height=\"24px\"viewBox=\"0 0 24 24\"\n",
              "       width=\"24px\">\n",
              "    <path d=\"M0 0h24v24H0V0z\" fill=\"none\"/>\n",
              "    <path d=\"M18.56 5.44l.94 2.06.94-2.06 2.06-.94-2.06-.94-.94-2.06-.94 2.06-2.06.94zm-11 1L8.5 8.5l.94-2.06 2.06-.94-2.06-.94L8.5 2.5l-.94 2.06-2.06.94zm10 10l.94 2.06.94-2.06 2.06-.94-2.06-.94-.94-2.06-.94 2.06-2.06.94z\"/><path d=\"M17.41 7.96l-1.37-1.37c-.4-.4-.92-.59-1.43-.59-.52 0-1.04.2-1.43.59L10.3 9.45l-7.72 7.72c-.78.78-.78 2.05 0 2.83L4 21.41c.39.39.9.59 1.41.59.51 0 1.02-.2 1.41-.59l7.78-7.78 2.81-2.81c.8-.78.8-2.07 0-2.86zM5.41 20L4 18.59l7.72-7.72 1.47 1.35L5.41 20z\"/>\n",
              "  </svg>\n",
              "      </button>\n",
              "      \n",
              "  <style>\n",
              "    .colab-df-container {\n",
              "      display:flex;\n",
              "      flex-wrap:wrap;\n",
              "      gap: 12px;\n",
              "    }\n",
              "\n",
              "    .colab-df-convert {\n",
              "      background-color: #E8F0FE;\n",
              "      border: none;\n",
              "      border-radius: 50%;\n",
              "      cursor: pointer;\n",
              "      display: none;\n",
              "      fill: #1967D2;\n",
              "      height: 32px;\n",
              "      padding: 0 0 0 0;\n",
              "      width: 32px;\n",
              "    }\n",
              "\n",
              "    .colab-df-convert:hover {\n",
              "      background-color: #E2EBFA;\n",
              "      box-shadow: 0px 1px 2px rgba(60, 64, 67, 0.3), 0px 1px 3px 1px rgba(60, 64, 67, 0.15);\n",
              "      fill: #174EA6;\n",
              "    }\n",
              "\n",
              "    [theme=dark] .colab-df-convert {\n",
              "      background-color: #3B4455;\n",
              "      fill: #D2E3FC;\n",
              "    }\n",
              "\n",
              "    [theme=dark] .colab-df-convert:hover {\n",
              "      background-color: #434B5C;\n",
              "      box-shadow: 0px 1px 3px 1px rgba(0, 0, 0, 0.15);\n",
              "      filter: drop-shadow(0px 1px 2px rgba(0, 0, 0, 0.3));\n",
              "      fill: #FFFFFF;\n",
              "    }\n",
              "  </style>\n",
              "\n",
              "      <script>\n",
              "        const buttonEl =\n",
              "          document.querySelector('#df-5fdafca8-59da-4d20-be20-c99d11d3346f button.colab-df-convert');\n",
              "        buttonEl.style.display =\n",
              "          google.colab.kernel.accessAllowed ? 'block' : 'none';\n",
              "\n",
              "        async function convertToInteractive(key) {\n",
              "          const element = document.querySelector('#df-5fdafca8-59da-4d20-be20-c99d11d3346f');\n",
              "          const dataTable =\n",
              "            await google.colab.kernel.invokeFunction('convertToInteractive',\n",
              "                                                     [key], {});\n",
              "          if (!dataTable) return;\n",
              "\n",
              "          const docLinkHtml = 'Like what you see? Visit the ' +\n",
              "            '<a target=\"_blank\" href=https://colab.research.google.com/notebooks/data_table.ipynb>data table notebook</a>'\n",
              "            + ' to learn more about interactive tables.';\n",
              "          element.innerHTML = '';\n",
              "          dataTable['output_type'] = 'display_data';\n",
              "          await google.colab.output.renderOutput(dataTable, element);\n",
              "          const docLink = document.createElement('div');\n",
              "          docLink.innerHTML = docLinkHtml;\n",
              "          element.appendChild(docLink);\n",
              "        }\n",
              "      </script>\n",
              "    </div>\n",
              "  </div>\n",
              "  "
            ]
          },
          "metadata": {},
          "execution_count": 38
        }
      ]
    },
    {
      "cell_type": "markdown",
      "source": [
        "It looks like the 2 most elderly people to die from gunshots inflicted by law enforcement were violent and armed."
      ],
      "metadata": {
        "id": "Xh836NCSn6VY"
      }
    },
    {
      "cell_type": "markdown",
      "source": [
        "Before moving on I am going to create 2 subsets. One subset will contain all deaths of a minor (defined as under 18 years old) and the other will be for the elderly (defined as older than 69 years of age)"
      ],
      "metadata": {
        "id": "dVhiawB9oTrf"
      }
    },
    {
      "cell_type": "code",
      "source": [
        "youth_deaths = deaths_df[deaths_df['age'] < 18]\n",
        "youth_deaths"
      ],
      "metadata": {
        "colab": {
          "base_uri": "https://localhost:8080/",
          "height": 505
        },
        "id": "GvzkDwSClxLW",
        "outputId": "8f0fd708-b851-456d-ad71-b52cd72b0d19"
      },
      "execution_count": null,
      "outputs": [
        {
          "output_type": "execute_result",
          "data": {
            "text/plain": [
              "           date armed   age gender race            city state  \\\n",
              "51   2015-01-22   yes  17.0      F    W        Longview    TX   \n",
              "60   2015-01-26   yes  17.0      F    H          Denver    CO   \n",
              "77   2015-02-02   yes  17.0      M    W        Bay City    MI   \n",
              "110  2015-02-14   yes  16.0      M    W           Essex    MD   \n",
              "134  2015-02-23   yes  16.0      M    B       Millbrook    AL   \n",
              "...         ...   ...   ...    ...  ...             ...   ...   \n",
              "6246 2021-04-12   yes  17.0      M    B       Knoxville    TN   \n",
              "6249 2021-04-13   yes  16.0      M    W     Leonardtown    MD   \n",
              "6276 2021-04-20   yes  16.0      F    B        Columbus    OH   \n",
              "6795 2021-10-16   yes  17.0      M    W  Tarpon Springs    FL   \n",
              "7052 2022-01-23    no  17.0      M    B        O'Fallon    MO   \n",
              "\n",
              "     signs_of_mental_illness violent fleeing  body_camera  \n",
              "51                       yes      no      no        False  \n",
              "60                        no      no      no        False  \n",
              "77                        no     yes      no        False  \n",
              "110                      yes     yes     yes        False  \n",
              "134                       no     yes      no        False  \n",
              "...                      ...     ...     ...          ...  \n",
              "6246                      no      no     yes         True  \n",
              "6249                      no     yes      no        False  \n",
              "6276                      no      no      no         True  \n",
              "6795                      no     yes      no        False  \n",
              "7052                      no      no     yes         True  \n",
              "\n",
              "[102 rows x 11 columns]"
            ],
            "text/html": [
              "\n",
              "  <div id=\"df-e14f6a46-59af-4986-b2a1-e2e925453283\">\n",
              "    <div class=\"colab-df-container\">\n",
              "      <div>\n",
              "<style scoped>\n",
              "    .dataframe tbody tr th:only-of-type {\n",
              "        vertical-align: middle;\n",
              "    }\n",
              "\n",
              "    .dataframe tbody tr th {\n",
              "        vertical-align: top;\n",
              "    }\n",
              "\n",
              "    .dataframe thead th {\n",
              "        text-align: right;\n",
              "    }\n",
              "</style>\n",
              "<table border=\"1\" class=\"dataframe\">\n",
              "  <thead>\n",
              "    <tr style=\"text-align: right;\">\n",
              "      <th></th>\n",
              "      <th>date</th>\n",
              "      <th>armed</th>\n",
              "      <th>age</th>\n",
              "      <th>gender</th>\n",
              "      <th>race</th>\n",
              "      <th>city</th>\n",
              "      <th>state</th>\n",
              "      <th>signs_of_mental_illness</th>\n",
              "      <th>violent</th>\n",
              "      <th>fleeing</th>\n",
              "      <th>body_camera</th>\n",
              "    </tr>\n",
              "  </thead>\n",
              "  <tbody>\n",
              "    <tr>\n",
              "      <th>51</th>\n",
              "      <td>2015-01-22</td>\n",
              "      <td>yes</td>\n",
              "      <td>17.0</td>\n",
              "      <td>F</td>\n",
              "      <td>W</td>\n",
              "      <td>Longview</td>\n",
              "      <td>TX</td>\n",
              "      <td>yes</td>\n",
              "      <td>no</td>\n",
              "      <td>no</td>\n",
              "      <td>False</td>\n",
              "    </tr>\n",
              "    <tr>\n",
              "      <th>60</th>\n",
              "      <td>2015-01-26</td>\n",
              "      <td>yes</td>\n",
              "      <td>17.0</td>\n",
              "      <td>F</td>\n",
              "      <td>H</td>\n",
              "      <td>Denver</td>\n",
              "      <td>CO</td>\n",
              "      <td>no</td>\n",
              "      <td>no</td>\n",
              "      <td>no</td>\n",
              "      <td>False</td>\n",
              "    </tr>\n",
              "    <tr>\n",
              "      <th>77</th>\n",
              "      <td>2015-02-02</td>\n",
              "      <td>yes</td>\n",
              "      <td>17.0</td>\n",
              "      <td>M</td>\n",
              "      <td>W</td>\n",
              "      <td>Bay City</td>\n",
              "      <td>MI</td>\n",
              "      <td>no</td>\n",
              "      <td>yes</td>\n",
              "      <td>no</td>\n",
              "      <td>False</td>\n",
              "    </tr>\n",
              "    <tr>\n",
              "      <th>110</th>\n",
              "      <td>2015-02-14</td>\n",
              "      <td>yes</td>\n",
              "      <td>16.0</td>\n",
              "      <td>M</td>\n",
              "      <td>W</td>\n",
              "      <td>Essex</td>\n",
              "      <td>MD</td>\n",
              "      <td>yes</td>\n",
              "      <td>yes</td>\n",
              "      <td>yes</td>\n",
              "      <td>False</td>\n",
              "    </tr>\n",
              "    <tr>\n",
              "      <th>134</th>\n",
              "      <td>2015-02-23</td>\n",
              "      <td>yes</td>\n",
              "      <td>16.0</td>\n",
              "      <td>M</td>\n",
              "      <td>B</td>\n",
              "      <td>Millbrook</td>\n",
              "      <td>AL</td>\n",
              "      <td>no</td>\n",
              "      <td>yes</td>\n",
              "      <td>no</td>\n",
              "      <td>False</td>\n",
              "    </tr>\n",
              "    <tr>\n",
              "      <th>...</th>\n",
              "      <td>...</td>\n",
              "      <td>...</td>\n",
              "      <td>...</td>\n",
              "      <td>...</td>\n",
              "      <td>...</td>\n",
              "      <td>...</td>\n",
              "      <td>...</td>\n",
              "      <td>...</td>\n",
              "      <td>...</td>\n",
              "      <td>...</td>\n",
              "      <td>...</td>\n",
              "    </tr>\n",
              "    <tr>\n",
              "      <th>6246</th>\n",
              "      <td>2021-04-12</td>\n",
              "      <td>yes</td>\n",
              "      <td>17.0</td>\n",
              "      <td>M</td>\n",
              "      <td>B</td>\n",
              "      <td>Knoxville</td>\n",
              "      <td>TN</td>\n",
              "      <td>no</td>\n",
              "      <td>no</td>\n",
              "      <td>yes</td>\n",
              "      <td>True</td>\n",
              "    </tr>\n",
              "    <tr>\n",
              "      <th>6249</th>\n",
              "      <td>2021-04-13</td>\n",
              "      <td>yes</td>\n",
              "      <td>16.0</td>\n",
              "      <td>M</td>\n",
              "      <td>W</td>\n",
              "      <td>Leonardtown</td>\n",
              "      <td>MD</td>\n",
              "      <td>no</td>\n",
              "      <td>yes</td>\n",
              "      <td>no</td>\n",
              "      <td>False</td>\n",
              "    </tr>\n",
              "    <tr>\n",
              "      <th>6276</th>\n",
              "      <td>2021-04-20</td>\n",
              "      <td>yes</td>\n",
              "      <td>16.0</td>\n",
              "      <td>F</td>\n",
              "      <td>B</td>\n",
              "      <td>Columbus</td>\n",
              "      <td>OH</td>\n",
              "      <td>no</td>\n",
              "      <td>no</td>\n",
              "      <td>no</td>\n",
              "      <td>True</td>\n",
              "    </tr>\n",
              "    <tr>\n",
              "      <th>6795</th>\n",
              "      <td>2021-10-16</td>\n",
              "      <td>yes</td>\n",
              "      <td>17.0</td>\n",
              "      <td>M</td>\n",
              "      <td>W</td>\n",
              "      <td>Tarpon Springs</td>\n",
              "      <td>FL</td>\n",
              "      <td>no</td>\n",
              "      <td>yes</td>\n",
              "      <td>no</td>\n",
              "      <td>False</td>\n",
              "    </tr>\n",
              "    <tr>\n",
              "      <th>7052</th>\n",
              "      <td>2022-01-23</td>\n",
              "      <td>no</td>\n",
              "      <td>17.0</td>\n",
              "      <td>M</td>\n",
              "      <td>B</td>\n",
              "      <td>O'Fallon</td>\n",
              "      <td>MO</td>\n",
              "      <td>no</td>\n",
              "      <td>no</td>\n",
              "      <td>yes</td>\n",
              "      <td>True</td>\n",
              "    </tr>\n",
              "  </tbody>\n",
              "</table>\n",
              "<p>102 rows × 11 columns</p>\n",
              "</div>\n",
              "      <button class=\"colab-df-convert\" onclick=\"convertToInteractive('df-e14f6a46-59af-4986-b2a1-e2e925453283')\"\n",
              "              title=\"Convert this dataframe to an interactive table.\"\n",
              "              style=\"display:none;\">\n",
              "        \n",
              "  <svg xmlns=\"http://www.w3.org/2000/svg\" height=\"24px\"viewBox=\"0 0 24 24\"\n",
              "       width=\"24px\">\n",
              "    <path d=\"M0 0h24v24H0V0z\" fill=\"none\"/>\n",
              "    <path d=\"M18.56 5.44l.94 2.06.94-2.06 2.06-.94-2.06-.94-.94-2.06-.94 2.06-2.06.94zm-11 1L8.5 8.5l.94-2.06 2.06-.94-2.06-.94L8.5 2.5l-.94 2.06-2.06.94zm10 10l.94 2.06.94-2.06 2.06-.94-2.06-.94-.94-2.06-.94 2.06-2.06.94z\"/><path d=\"M17.41 7.96l-1.37-1.37c-.4-.4-.92-.59-1.43-.59-.52 0-1.04.2-1.43.59L10.3 9.45l-7.72 7.72c-.78.78-.78 2.05 0 2.83L4 21.41c.39.39.9.59 1.41.59.51 0 1.02-.2 1.41-.59l7.78-7.78 2.81-2.81c.8-.78.8-2.07 0-2.86zM5.41 20L4 18.59l7.72-7.72 1.47 1.35L5.41 20z\"/>\n",
              "  </svg>\n",
              "      </button>\n",
              "      \n",
              "  <style>\n",
              "    .colab-df-container {\n",
              "      display:flex;\n",
              "      flex-wrap:wrap;\n",
              "      gap: 12px;\n",
              "    }\n",
              "\n",
              "    .colab-df-convert {\n",
              "      background-color: #E8F0FE;\n",
              "      border: none;\n",
              "      border-radius: 50%;\n",
              "      cursor: pointer;\n",
              "      display: none;\n",
              "      fill: #1967D2;\n",
              "      height: 32px;\n",
              "      padding: 0 0 0 0;\n",
              "      width: 32px;\n",
              "    }\n",
              "\n",
              "    .colab-df-convert:hover {\n",
              "      background-color: #E2EBFA;\n",
              "      box-shadow: 0px 1px 2px rgba(60, 64, 67, 0.3), 0px 1px 3px 1px rgba(60, 64, 67, 0.15);\n",
              "      fill: #174EA6;\n",
              "    }\n",
              "\n",
              "    [theme=dark] .colab-df-convert {\n",
              "      background-color: #3B4455;\n",
              "      fill: #D2E3FC;\n",
              "    }\n",
              "\n",
              "    [theme=dark] .colab-df-convert:hover {\n",
              "      background-color: #434B5C;\n",
              "      box-shadow: 0px 1px 3px 1px rgba(0, 0, 0, 0.15);\n",
              "      filter: drop-shadow(0px 1px 2px rgba(0, 0, 0, 0.3));\n",
              "      fill: #FFFFFF;\n",
              "    }\n",
              "  </style>\n",
              "\n",
              "      <script>\n",
              "        const buttonEl =\n",
              "          document.querySelector('#df-e14f6a46-59af-4986-b2a1-e2e925453283 button.colab-df-convert');\n",
              "        buttonEl.style.display =\n",
              "          google.colab.kernel.accessAllowed ? 'block' : 'none';\n",
              "\n",
              "        async function convertToInteractive(key) {\n",
              "          const element = document.querySelector('#df-e14f6a46-59af-4986-b2a1-e2e925453283');\n",
              "          const dataTable =\n",
              "            await google.colab.kernel.invokeFunction('convertToInteractive',\n",
              "                                                     [key], {});\n",
              "          if (!dataTable) return;\n",
              "\n",
              "          const docLinkHtml = 'Like what you see? Visit the ' +\n",
              "            '<a target=\"_blank\" href=https://colab.research.google.com/notebooks/data_table.ipynb>data table notebook</a>'\n",
              "            + ' to learn more about interactive tables.';\n",
              "          element.innerHTML = '';\n",
              "          dataTable['output_type'] = 'display_data';\n",
              "          await google.colab.output.renderOutput(dataTable, element);\n",
              "          const docLink = document.createElement('div');\n",
              "          docLink.innerHTML = docLinkHtml;\n",
              "          element.appendChild(docLink);\n",
              "        }\n",
              "      </script>\n",
              "    </div>\n",
              "  </div>\n",
              "  "
            ]
          },
          "metadata": {},
          "execution_count": 39
        }
      ]
    },
    {
      "cell_type": "code",
      "source": [
        "elderly_deaths = deaths_df[deaths_df['age'] > 69]\n",
        "elderly_deaths"
      ],
      "metadata": {
        "colab": {
          "base_uri": "https://localhost:8080/",
          "height": 505
        },
        "id": "O2PdNzNXouvv",
        "outputId": "56596a32-d138-41fe-a6c9-9514221c126f"
      },
      "execution_count": null,
      "outputs": [
        {
          "output_type": "execute_result",
          "data": {
            "text/plain": [
              "           date armed   age gender race           city state  \\\n",
              "19   2015-01-09   yes  71.0      M    W        England    AR   \n",
              "29   2015-01-14   yes  75.0      M    W     Old Bridge    NJ   \n",
              "92   2015-02-07   yes  74.0      M    B       Gastonia    NC   \n",
              "126  2015-02-20   yes  77.0      M    B     Birmingham    AL   \n",
              "275  2015-04-12   yes  83.0      M    W  Oklahoma City    OK   \n",
              "...         ...   ...   ...    ...  ...            ...   ...   \n",
              "5882 2020-12-10   yes  79.0      M    W       Dumfries    VA   \n",
              "5967 2021-01-09   yes  91.0      F    W    Victorville    CA   \n",
              "6162 2021-03-18   yes  79.0      M    W       Pasadena    MD   \n",
              "6168 2021-03-20   yes  79.0      M    W         Hudson    FL   \n",
              "6377 2021-05-31   yes  71.0      M    W        Jemison    AL   \n",
              "\n",
              "     signs_of_mental_illness violent fleeing  body_camera  \n",
              "19                        no     yes      no        False  \n",
              "29                        no     yes      no        False  \n",
              "92                        no     yes      no        False  \n",
              "126                      yes     yes      no        False  \n",
              "275                      yes      no      no        False  \n",
              "...                      ...     ...     ...          ...  \n",
              "5882                     yes     yes     yes        False  \n",
              "5967                      no     yes      no        False  \n",
              "6162                     yes     yes      no        False  \n",
              "6168                     yes      no      no         True  \n",
              "6377                      no     yes      no        False  \n",
              "\n",
              "[64 rows x 11 columns]"
            ],
            "text/html": [
              "\n",
              "  <div id=\"df-e04f0676-66df-48ec-bfdf-060a8ad7e721\">\n",
              "    <div class=\"colab-df-container\">\n",
              "      <div>\n",
              "<style scoped>\n",
              "    .dataframe tbody tr th:only-of-type {\n",
              "        vertical-align: middle;\n",
              "    }\n",
              "\n",
              "    .dataframe tbody tr th {\n",
              "        vertical-align: top;\n",
              "    }\n",
              "\n",
              "    .dataframe thead th {\n",
              "        text-align: right;\n",
              "    }\n",
              "</style>\n",
              "<table border=\"1\" class=\"dataframe\">\n",
              "  <thead>\n",
              "    <tr style=\"text-align: right;\">\n",
              "      <th></th>\n",
              "      <th>date</th>\n",
              "      <th>armed</th>\n",
              "      <th>age</th>\n",
              "      <th>gender</th>\n",
              "      <th>race</th>\n",
              "      <th>city</th>\n",
              "      <th>state</th>\n",
              "      <th>signs_of_mental_illness</th>\n",
              "      <th>violent</th>\n",
              "      <th>fleeing</th>\n",
              "      <th>body_camera</th>\n",
              "    </tr>\n",
              "  </thead>\n",
              "  <tbody>\n",
              "    <tr>\n",
              "      <th>19</th>\n",
              "      <td>2015-01-09</td>\n",
              "      <td>yes</td>\n",
              "      <td>71.0</td>\n",
              "      <td>M</td>\n",
              "      <td>W</td>\n",
              "      <td>England</td>\n",
              "      <td>AR</td>\n",
              "      <td>no</td>\n",
              "      <td>yes</td>\n",
              "      <td>no</td>\n",
              "      <td>False</td>\n",
              "    </tr>\n",
              "    <tr>\n",
              "      <th>29</th>\n",
              "      <td>2015-01-14</td>\n",
              "      <td>yes</td>\n",
              "      <td>75.0</td>\n",
              "      <td>M</td>\n",
              "      <td>W</td>\n",
              "      <td>Old Bridge</td>\n",
              "      <td>NJ</td>\n",
              "      <td>no</td>\n",
              "      <td>yes</td>\n",
              "      <td>no</td>\n",
              "      <td>False</td>\n",
              "    </tr>\n",
              "    <tr>\n",
              "      <th>92</th>\n",
              "      <td>2015-02-07</td>\n",
              "      <td>yes</td>\n",
              "      <td>74.0</td>\n",
              "      <td>M</td>\n",
              "      <td>B</td>\n",
              "      <td>Gastonia</td>\n",
              "      <td>NC</td>\n",
              "      <td>no</td>\n",
              "      <td>yes</td>\n",
              "      <td>no</td>\n",
              "      <td>False</td>\n",
              "    </tr>\n",
              "    <tr>\n",
              "      <th>126</th>\n",
              "      <td>2015-02-20</td>\n",
              "      <td>yes</td>\n",
              "      <td>77.0</td>\n",
              "      <td>M</td>\n",
              "      <td>B</td>\n",
              "      <td>Birmingham</td>\n",
              "      <td>AL</td>\n",
              "      <td>yes</td>\n",
              "      <td>yes</td>\n",
              "      <td>no</td>\n",
              "      <td>False</td>\n",
              "    </tr>\n",
              "    <tr>\n",
              "      <th>275</th>\n",
              "      <td>2015-04-12</td>\n",
              "      <td>yes</td>\n",
              "      <td>83.0</td>\n",
              "      <td>M</td>\n",
              "      <td>W</td>\n",
              "      <td>Oklahoma City</td>\n",
              "      <td>OK</td>\n",
              "      <td>yes</td>\n",
              "      <td>no</td>\n",
              "      <td>no</td>\n",
              "      <td>False</td>\n",
              "    </tr>\n",
              "    <tr>\n",
              "      <th>...</th>\n",
              "      <td>...</td>\n",
              "      <td>...</td>\n",
              "      <td>...</td>\n",
              "      <td>...</td>\n",
              "      <td>...</td>\n",
              "      <td>...</td>\n",
              "      <td>...</td>\n",
              "      <td>...</td>\n",
              "      <td>...</td>\n",
              "      <td>...</td>\n",
              "      <td>...</td>\n",
              "    </tr>\n",
              "    <tr>\n",
              "      <th>5882</th>\n",
              "      <td>2020-12-10</td>\n",
              "      <td>yes</td>\n",
              "      <td>79.0</td>\n",
              "      <td>M</td>\n",
              "      <td>W</td>\n",
              "      <td>Dumfries</td>\n",
              "      <td>VA</td>\n",
              "      <td>yes</td>\n",
              "      <td>yes</td>\n",
              "      <td>yes</td>\n",
              "      <td>False</td>\n",
              "    </tr>\n",
              "    <tr>\n",
              "      <th>5967</th>\n",
              "      <td>2021-01-09</td>\n",
              "      <td>yes</td>\n",
              "      <td>91.0</td>\n",
              "      <td>F</td>\n",
              "      <td>W</td>\n",
              "      <td>Victorville</td>\n",
              "      <td>CA</td>\n",
              "      <td>no</td>\n",
              "      <td>yes</td>\n",
              "      <td>no</td>\n",
              "      <td>False</td>\n",
              "    </tr>\n",
              "    <tr>\n",
              "      <th>6162</th>\n",
              "      <td>2021-03-18</td>\n",
              "      <td>yes</td>\n",
              "      <td>79.0</td>\n",
              "      <td>M</td>\n",
              "      <td>W</td>\n",
              "      <td>Pasadena</td>\n",
              "      <td>MD</td>\n",
              "      <td>yes</td>\n",
              "      <td>yes</td>\n",
              "      <td>no</td>\n",
              "      <td>False</td>\n",
              "    </tr>\n",
              "    <tr>\n",
              "      <th>6168</th>\n",
              "      <td>2021-03-20</td>\n",
              "      <td>yes</td>\n",
              "      <td>79.0</td>\n",
              "      <td>M</td>\n",
              "      <td>W</td>\n",
              "      <td>Hudson</td>\n",
              "      <td>FL</td>\n",
              "      <td>yes</td>\n",
              "      <td>no</td>\n",
              "      <td>no</td>\n",
              "      <td>True</td>\n",
              "    </tr>\n",
              "    <tr>\n",
              "      <th>6377</th>\n",
              "      <td>2021-05-31</td>\n",
              "      <td>yes</td>\n",
              "      <td>71.0</td>\n",
              "      <td>M</td>\n",
              "      <td>W</td>\n",
              "      <td>Jemison</td>\n",
              "      <td>AL</td>\n",
              "      <td>no</td>\n",
              "      <td>yes</td>\n",
              "      <td>no</td>\n",
              "      <td>False</td>\n",
              "    </tr>\n",
              "  </tbody>\n",
              "</table>\n",
              "<p>64 rows × 11 columns</p>\n",
              "</div>\n",
              "      <button class=\"colab-df-convert\" onclick=\"convertToInteractive('df-e04f0676-66df-48ec-bfdf-060a8ad7e721')\"\n",
              "              title=\"Convert this dataframe to an interactive table.\"\n",
              "              style=\"display:none;\">\n",
              "        \n",
              "  <svg xmlns=\"http://www.w3.org/2000/svg\" height=\"24px\"viewBox=\"0 0 24 24\"\n",
              "       width=\"24px\">\n",
              "    <path d=\"M0 0h24v24H0V0z\" fill=\"none\"/>\n",
              "    <path d=\"M18.56 5.44l.94 2.06.94-2.06 2.06-.94-2.06-.94-.94-2.06-.94 2.06-2.06.94zm-11 1L8.5 8.5l.94-2.06 2.06-.94-2.06-.94L8.5 2.5l-.94 2.06-2.06.94zm10 10l.94 2.06.94-2.06 2.06-.94-2.06-.94-.94-2.06-.94 2.06-2.06.94z\"/><path d=\"M17.41 7.96l-1.37-1.37c-.4-.4-.92-.59-1.43-.59-.52 0-1.04.2-1.43.59L10.3 9.45l-7.72 7.72c-.78.78-.78 2.05 0 2.83L4 21.41c.39.39.9.59 1.41.59.51 0 1.02-.2 1.41-.59l7.78-7.78 2.81-2.81c.8-.78.8-2.07 0-2.86zM5.41 20L4 18.59l7.72-7.72 1.47 1.35L5.41 20z\"/>\n",
              "  </svg>\n",
              "      </button>\n",
              "      \n",
              "  <style>\n",
              "    .colab-df-container {\n",
              "      display:flex;\n",
              "      flex-wrap:wrap;\n",
              "      gap: 12px;\n",
              "    }\n",
              "\n",
              "    .colab-df-convert {\n",
              "      background-color: #E8F0FE;\n",
              "      border: none;\n",
              "      border-radius: 50%;\n",
              "      cursor: pointer;\n",
              "      display: none;\n",
              "      fill: #1967D2;\n",
              "      height: 32px;\n",
              "      padding: 0 0 0 0;\n",
              "      width: 32px;\n",
              "    }\n",
              "\n",
              "    .colab-df-convert:hover {\n",
              "      background-color: #E2EBFA;\n",
              "      box-shadow: 0px 1px 2px rgba(60, 64, 67, 0.3), 0px 1px 3px 1px rgba(60, 64, 67, 0.15);\n",
              "      fill: #174EA6;\n",
              "    }\n",
              "\n",
              "    [theme=dark] .colab-df-convert {\n",
              "      background-color: #3B4455;\n",
              "      fill: #D2E3FC;\n",
              "    }\n",
              "\n",
              "    [theme=dark] .colab-df-convert:hover {\n",
              "      background-color: #434B5C;\n",
              "      box-shadow: 0px 1px 3px 1px rgba(0, 0, 0, 0.15);\n",
              "      filter: drop-shadow(0px 1px 2px rgba(0, 0, 0, 0.3));\n",
              "      fill: #FFFFFF;\n",
              "    }\n",
              "  </style>\n",
              "\n",
              "      <script>\n",
              "        const buttonEl =\n",
              "          document.querySelector('#df-e04f0676-66df-48ec-bfdf-060a8ad7e721 button.colab-df-convert');\n",
              "        buttonEl.style.display =\n",
              "          google.colab.kernel.accessAllowed ? 'block' : 'none';\n",
              "\n",
              "        async function convertToInteractive(key) {\n",
              "          const element = document.querySelector('#df-e04f0676-66df-48ec-bfdf-060a8ad7e721');\n",
              "          const dataTable =\n",
              "            await google.colab.kernel.invokeFunction('convertToInteractive',\n",
              "                                                     [key], {});\n",
              "          if (!dataTable) return;\n",
              "\n",
              "          const docLinkHtml = 'Like what you see? Visit the ' +\n",
              "            '<a target=\"_blank\" href=https://colab.research.google.com/notebooks/data_table.ipynb>data table notebook</a>'\n",
              "            + ' to learn more about interactive tables.';\n",
              "          element.innerHTML = '';\n",
              "          dataTable['output_type'] = 'display_data';\n",
              "          await google.colab.output.renderOutput(dataTable, element);\n",
              "          const docLink = document.createElement('div');\n",
              "          docLink.innerHTML = docLinkHtml;\n",
              "          element.appendChild(docLink);\n",
              "        }\n",
              "      </script>\n",
              "    </div>\n",
              "  </div>\n",
              "  "
            ]
          },
          "metadata": {},
          "execution_count": 40
        }
      ]
    },
    {
      "cell_type": "markdown",
      "metadata": {
        "id": "abT5RD00yPo1"
      },
      "source": [
        "First of all let's look at the breakdown of cases by race and by gender using the `countplot()` method from Seaborn and the `pie()` method from Matplotlib. The countplot function sums up the occurances of each feature value in a dataframe column. The pie method will be explained below."
      ]
    },
    {
      "cell_type": "code",
      "source": [
        "print(f\"(A)sian\\t(W)hite\\t(H)ispanic\\t(B)lack\\t(O)ther\\t(N)ative American\")\n",
        "sns.countplot(x=deaths_df['race'])\n",
        "plt.xticks(rotation=90)\n",
        "plt.title('Deaths by race')\n",
        "plt.ylabel('occurences')\n",
        "plt.show()"
      ],
      "metadata": {
        "colab": {
          "base_uri": "https://localhost:8080/",
          "height": 380
        },
        "id": "VUQttitMNk_Z",
        "outputId": "d08a46ee-f17d-41f6-a087-8cd9e2777ef7"
      },
      "execution_count": null,
      "outputs": [
        {
          "output_type": "stream",
          "name": "stdout",
          "text": [
            "(A)sian\t(W)hite\t(H)ispanic\t(B)lack\t(O)ther\t(N)ative American\n"
          ]
        },
        {
          "output_type": "display_data",
          "data": {
            "text/plain": [
              "<Figure size 648x360 with 1 Axes>"
            ],
            "image/png": "[encoded data removed]"
          },
          "metadata": {
            "needs_background": "light"
          }
        }
      ]
    },
    {
      "cell_type": "markdown",
      "source": [
        "Here we will use `matplotlib.pyplot.pie()` to create a pie chart. We cannot simply give it our dataframe as it requires a single number per value to calculate percentages. \n",
        "\n",
        "First we will get the number of male and female victims and put those numbers into an array. We will also create and array of the corresponding labels. Both will be given to the pie function along with some styling values."
      ],
      "metadata": {
        "id": "lT1QxunRSCkS"
      }
    },
    {
      "cell_type": "code",
      "source": [
        "male = deaths_df[deaths_df['gender'] == 'M'].shape[0]\n",
        "female = deaths_df[deaths_df['gender'] == 'F'].shape[0]\n",
        "\n",
        "y = np.array([male, female])\n",
        "labels = ['Male', 'Female']\n",
        "\n",
        "plt.pie(y, labels=labels, \n",
        "        explode=[0, 0.2], \n",
        "        colors=['deepskyblue', 'deeppink'], \n",
        "        shadow=True,\n",
        "        startangle=160,\n",
        "        autopct='%1.1f%%')\n",
        "plt.title('Deaths By Gender')\n",
        "plt.show()"
      ],
      "metadata": {
        "colab": {
          "base_uri": "https://localhost:8080/",
          "height": 323
        },
        "id": "VtIS1ugNOvJ4",
        "outputId": "68dfcf26-2dd4-4ac8-cd6d-755807b90543"
      },
      "execution_count": null,
      "outputs": [
        {
          "output_type": "display_data",
          "data": {
            "text/plain": [
              "<Figure size 648x360 with 1 Axes>"
            ],
            "image/png": "[encoded data removed]"
          },
          "metadata": {}
        }
      ]
    },
    {
      "cell_type": "markdown",
      "source": [
        "In the first chart we can see white people make up the largest number of deaths, followed by black people and the hispanics. According to [the United States Cencus Bureau](https://www.census.gov/) caucasians make up 61% of the population, black/African Americans make up 12.4% and hispanics make up 18.5%. \n",
        "\n",
        "For the majority of the deaths the deceased person was male. This is not suprising as men exhibit patterns of criminality at a much higher rate than women do."
      ],
      "metadata": {
        "id": "2Y_6e8m7MZxP"
      }
    },
    {
      "cell_type": "markdown",
      "metadata": {
        "id": "0RsbfBRxyPo3"
      },
      "source": [
        "Next let's take a look at the case breakdown by the age of the deceased. We will use the matplotlib `pyplot.hist()` method to draw a histogram. We will input the age column into it and create bins for roughly 2 year increments."
      ]
    },
    {
      "cell_type": "code",
      "execution_count": null,
      "metadata": {
        "id": "yH5GJHodyPo3",
        "colab": {
          "base_uri": "https://localhost:8080/",
          "height": 362
        },
        "outputId": "237e039a-6e78-4632-85fb-b8d28ae02676"
      },
      "outputs": [
        {
          "output_type": "display_data",
          "data": {
            "text/plain": [
              "<Figure size 648x360 with 1 Axes>"
            ],
            "image/png": "[encoded data removed]"
          },
          "metadata": {
            "needs_background": "light"
          }
        }
      ],
      "source": [
        "plt.hist(deaths_df['age'], bins=40, color='darkviolet')\n",
        "plt.title('Distribution of Ages')\n",
        "plt.xlabel('Age of deceased')\n",
        "plt.ylabel('No. deaths')\n",
        "plt.show()"
      ]
    },
    {
      "cell_type": "markdown",
      "source": [
        "As you can see above the highest number of cases involves persons in their mid twenties, and stays high until around the age of 40, after which the number of cases continually decreases with age. This matches the patterns of criminality based on age found in social science based research."
      ],
      "metadata": {
        "id": "rlDu65D6MgHG"
      }
    },
    {
      "cell_type": "markdown",
      "metadata": {
        "id": "ntm9zC52yPo3"
      },
      "source": [
        "Here we will explore how often the deceased was armed using the seaborn library version of a histogram. `sns.histplot` is used pretty much the same as the matplotlib version although I find the styling to be more appealing."
      ]
    },
    {
      "cell_type": "code",
      "execution_count": null,
      "metadata": {
        "id": "4At7XptayPo4",
        "colab": {
          "base_uri": "https://localhost:8080/",
          "height": 362
        },
        "outputId": "d11fdd57-eb8c-4685-976e-bb648f6f9c35"
      },
      "outputs": [
        {
          "output_type": "display_data",
          "data": {
            "text/plain": [
              "<Figure size 648x360 with 1 Axes>"
            ],
            "image/png": "[encoded data removed]"
          },
          "metadata": {
            "needs_background": "light"
          }
        }
      ],
      "source": [
        "sns.histplot(deaths_df['armed'], color='green')\n",
        "plt.title('Armed vs Unarmed')\n",
        "plt.ylabel('No. deaths')\n",
        "plt.xlabel('Armed Status')\n",
        "plt.show()"
      ]
    },
    {
      "cell_type": "markdown",
      "source": [
        "Looks like the majority of victims were in possession of some variety of weapon before they were killed.\n",
        "\n",
        "Now lets look at how often the deceased was found to be violent before getting shot. We will use seaborn's `countplot()` to visualize this which also takes a column from the dataframe and show the number off occurances for each value. Just for some variety we will give the data to the y axis instead of the x axis so the bars are drawn horizontally."
      ],
      "metadata": {
        "id": "cGZsK61gTlk1"
      }
    },
    {
      "cell_type": "code",
      "execution_count": null,
      "metadata": {
        "id": "gZib9-HWyPo4",
        "colab": {
          "base_uri": "https://localhost:8080/",
          "height": 383
        },
        "outputId": "e26cfb68-ca98-48f1-ebf8-9e4b07bcc988"
      },
      "outputs": [
        {
          "output_type": "display_data",
          "data": {
            "text/plain": [
              "<Figure size 648x360 with 1 Axes>"
            ],
            "image/png": "[encoded data removed]"
          },
          "metadata": {
            "needs_background": "light"
          }
        }
      ],
      "source": [
        "sns.countplot(y=deaths_df['violent'])\n",
        "plt.xticks(rotation=90)\n",
        "plt.title('Was Deceased Violent')\n",
        "plt.ylabel('deaths')\n",
        "plt.show()\n",
        "\n",
        "\n",
        "# sns.histplot(deaths_df['violent'], color='crimson')\n",
        "# plt.title('Was Deceased Violent')\n",
        "# plt.ylabel('No. deaths')\n",
        "# plt.xlabel('Was violent')\n",
        "# plt.show()"
      ]
    },
    {
      "cell_type": "markdown",
      "source": [
        "Looks like almost half of the victims were not behaving aggressively leading up to their death."
      ],
      "metadata": {
        "id": "VmDJkxVLUwUy"
      }
    },
    {
      "cell_type": "markdown",
      "source": [
        "I will now craete 2 subsets of data based on multiple conditions in order to find out how often the deceased was armed and violent against how many were unarmed and not aggressive."
      ],
      "metadata": {
        "id": "puwkoWM_U8M1"
      }
    },
    {
      "cell_type": "code",
      "source": [
        "armed_and_violent = deaths_df[(deaths_df['armed'] == 'yes') & (deaths_df['violent'] == 'yes')]\n",
        "unarmed_and_nonviolent = deaths_df[(deaths_df['armed'] == 'no') & (deaths_df['violent'] == 'no')]"
      ],
      "metadata": {
        "id": "-1HZaLg2NJ-D"
      },
      "execution_count": null,
      "outputs": []
    },
    {
      "cell_type": "code",
      "source": [
        "armViolent = armed_and_violent.shape[0]\n",
        "notArmViolent = unarmed_and_nonviolent.shape[0]\n",
        "print(armViolent, notArmViolent)\n",
        "\n",
        "y = np.array([armViolent, notArmViolent])\n",
        "labels = ['Armed Violent', 'Unarmed Dosile']\n",
        "\n",
        "plt.pie(y, labels=labels, \n",
        "        explode=[0, 0.2], \n",
        "        colors=['red', 'lime'], \n",
        "        shadow=True,\n",
        "        autopct='%1.1f%%')\n",
        "plt.title('Risk to Officer')\n",
        "plt.show()"
      ],
      "metadata": {
        "colab": {
          "base_uri": "https://localhost:8080/",
          "height": 341
        },
        "id": "8fb2SDMvNKKZ",
        "outputId": "316a0af1-36de-4d22-bd34-4521788c5799"
      },
      "execution_count": null,
      "outputs": [
        {
          "output_type": "stream",
          "name": "stdout",
          "text": [
            "3409 342\n"
          ]
        },
        {
          "output_type": "display_data",
          "data": {
            "text/plain": [
              "<Figure size 648x360 with 1 Axes>"
            ],
            "image/png": "[encoded data removed]"
          },
          "metadata": {}
        }
      ]
    },
    {
      "cell_type": "markdown",
      "source": [
        "As illustrated the majority of persons fatally shot by the police were in possesion of some sort of weapon during their confrentation of the police. \n",
        "\n",
        "Interestingly only around half of the suspects were behaving in an aggressive or violent manner. \n",
        "\n",
        "In the last pie chart I created one group where the suspect was both armed and violent towards officers preceding their death and another where the suspect was neither in possesion of a weapon or behaving aggressively. We can see that only approximately 1/8th of the deceased presented no physical threat to the officers."
      ],
      "metadata": {
        "id": "3iSUTV4IQ5kR"
      }
    },
    {
      "cell_type": "markdown",
      "metadata": {
        "id": "xCPWI4I7yPo4"
      },
      "source": [
        "Mentall illness often plays a role in criminality, although this does not necessarily mean that it leads to violence. Lets see what proportion of the deceased had apparent mental health issues."
      ]
    },
    {
      "cell_type": "code",
      "source": [
        "sns.histplot(deaths_df['signs_of_mental_illness'], color='purple')\n",
        "plt.title('Signs of Mental Illness')\n",
        "plt.ylabel('No. deaths')\n",
        "plt.xlabel('Mentally Ill?')\n",
        "plt.show()"
      ],
      "metadata": {
        "colab": {
          "base_uri": "https://localhost:8080/",
          "height": 362
        },
        "id": "3qaeOOjJdkf9",
        "outputId": "f96e7f2d-b69c-4f82-cdc6-5acbe3721153"
      },
      "execution_count": null,
      "outputs": [
        {
          "output_type": "display_data",
          "data": {
            "text/plain": [
              "<Figure size 648x360 with 1 Axes>"
            ],
            "image/png": "[encoded data removed]"
          },
          "metadata": {
            "needs_background": "light"
          }
        }
      ]
    },
    {
      "cell_type": "markdown",
      "metadata": {
        "id": "eAK0lEh7yPo4"
      },
      "source": [
        "Let's take a look at how the number of deaths has been increasing since 2015."
      ]
    },
    {
      "cell_type": "code",
      "execution_count": null,
      "metadata": {
        "id": "dWxklx6nyPo4",
        "colab": {
          "base_uri": "https://localhost:8080/",
          "height": 362
        },
        "outputId": "c5e91946-f573-43a6-ae25-778d490c401d"
      },
      "outputs": [
        {
          "output_type": "display_data",
          "data": {
            "text/plain": [
              "<Figure size 648x360 with 1 Axes>"
            ],
            "image/png": "[encoded data removed]"
          },
          "metadata": {
            "needs_background": "light"
          }
        }
      ],
      "source": [
        "plt.plot(deaths_df['date'])\n",
        "plt.xlabel('Cumulative Deaths')\n",
        "plt.ylabel('Year')\n",
        "plt.title('Cumulative Deaths 2015 - 2022')\n",
        "plt.show()"
      ]
    },
    {
      "cell_type": "markdown",
      "source": [
        "Looks like deaths have been increasing linearily."
      ],
      "metadata": {
        "id": "WCVH6UkVmfYx"
      }
    },
    {
      "cell_type": "markdown",
      "metadata": {
        "id": "gPjGX_llyPo6"
      },
      "source": [
        "## Asking and Answering Questions\n",
        "\n",
        "In this section we will explore whether African Americans are more likely to be killed by police when non violent and unarmed than the general population. We will look at which states have the most occurances of police homicide. We will then look at some factors at play when persons under the age of 18 have been killed.\n",
        "\n"
      ]
    },
    {
      "cell_type": "markdown",
      "metadata": {
        "id": "FSxfUzpiyPo7"
      },
      "source": [
        "#### Q1: Is an unarmed and non-violent black american significantly more likely to recieve a fatal gunshot wound from law enforcement?"
      ]
    },
    {
      "cell_type": "markdown",
      "source": [
        "Many have speculated that police are more likely to kill a black person during an encounter than compared to the general population. Below I will further refine my **armed and violent** and **not armed or violent** datasets from above in order to visualize the proportion of low risk to high risk fatal encounters and compare with the general populations ratio.\n",
        "\n",
        "First I will create 2 subsets with only African American victims and then use those with `matplotlib.pyplot.pie()` to create a nice pie chart. Note the parameters for the formatting and shadow effect. For a more detailed explanation of pie charts see the exploration section of this notebook."
      ],
      "metadata": {
        "id": "OTDksucccLsF"
      }
    },
    {
      "cell_type": "code",
      "source": [
        "african_armViolent = armed_and_violent[armed_and_violent['race'] == 'B'].shape[0]\n",
        "african_notArmViolent = unarmed_and_nonviolent[unarmed_and_nonviolent['race'] == 'B'].shape[0]\n",
        "\n",
        "y = np.array([african_armViolent, african_notArmViolent])\n",
        "labels = ['Armed Violent', 'Unarmed Dosile']\n",
        "\n",
        "plt.pie(y, labels=labels, \n",
        "        explode=[0, 0.2], \n",
        "        colors=['blueviolet', 'deepskyblue'], \n",
        "        shadow=True,\n",
        "        autopct='%1.1f%%',\n",
        "        startangle=30)\n",
        "plt.title('Risk to Officer - African Americans')\n",
        "plt.show()"
      ],
      "metadata": {
        "colab": {
          "base_uri": "https://localhost:8080/",
          "height": 323
        },
        "id": "-zYP1MWEcK-x",
        "outputId": "b862e1a7-5943-4681-e740-8b13d6acb20b"
      },
      "execution_count": null,
      "outputs": [
        {
          "output_type": "display_data",
          "data": {
            "text/plain": [
              "<Figure size 648x360 with 1 Axes>"
            ],
            "image/png": "[encoded data removed]"
          },
          "metadata": {}
        }
      ]
    },
    {
      "cell_type": "markdown",
      "source": [
        "As shown above there was a 1% difference between the African American Violent/Armed to Unarmed/Dosile vicitm ratio. It would not appear that unarmed and non-violent black men or women are more likely to be fatally shot by the police."
      ],
      "metadata": {
        "id": "7eDMFAtWdnnL"
      }
    },
    {
      "cell_type": "markdown",
      "metadata": {
        "id": "fX3FIiWwyPo8"
      },
      "source": [
        "#### Q2: Which states have the highest number of deaths?\n",
        "\n",
        "In this section we will call on our old friend the `seaborn.countplot()` to see the number of occurances per state side by side for comparison.\n",
        "\n"
      ]
    },
    {
      "cell_type": "code",
      "execution_count": null,
      "metadata": {
        "id": "zcDy2682yPo8",
        "colab": {
          "base_uri": "https://localhost:8080/",
          "height": 534
        },
        "outputId": "1a6dc55e-baac-42cf-f85c-04785799a5de"
      },
      "outputs": [
        {
          "output_type": "display_data",
          "data": {
            "text/plain": [
              "<Figure size 1008x576 with 1 Axes>"
            ],
            "image/png": "[encoded data removed]"
          },
          "metadata": {
            "needs_background": "light"
          }
        }
      ],
      "source": [
        "plt.figure(figsize=(14,8))\n",
        "sns.countplot(x=deaths_df['state'])\n",
        "plt.xticks(rotation=90)\n",
        "plt.title('Deaths by state')\n",
        "plt.ylabel('Deaths')\n",
        "plt.show()"
      ]
    },
    {
      "cell_type": "markdown",
      "source": [
        "By far the highest number of fatalities happened in California. This is not suprising given the almost legendary reputation CA has for excessive crime. Texas also has a much higher number of deaths than most of the coutry followed closely by Florida."
      ],
      "metadata": {
        "id": "YOlYu26eXPEV"
      }
    },
    {
      "cell_type": "markdown",
      "metadata": {
        "id": "BGkvqaySyPo8"
      },
      "source": [
        "#### Q3: Are the youth deaths justified by violence?"
      ]
    },
    {
      "cell_type": "markdown",
      "source": [
        "As before we will create an unarmed and non violent category with an armed and violent category to see the circumstances in youth deaths by law enforcement.\n",
        "\n",
        "Again we will put these numebrs into an array and plot with the matplotlib `pie()` method, but since that is getting a little stale we will turn it into a donut chart. \n",
        "\n",
        "To make the donut chart we:\n",
        "- Create pie chart as before\n",
        "- Create the center circle using `pyplot.Circle()` with an (x,y) tuple, radius and white color value.\n",
        "- Save the current figure to a variable using the `pyplot.gcf()` (get current figure) method.\n",
        "- Add the circle to the pie chart using the `pyplot.gca.add_artist()` method (gca for get current axis)."
      ],
      "metadata": {
        "id": "ROh6KO7nXxg6"
      }
    },
    {
      "cell_type": "code",
      "execution_count": null,
      "metadata": {
        "id": "vvAHHvzOyPo9",
        "colab": {
          "base_uri": "https://localhost:8080/",
          "height": 486
        },
        "outputId": "83e63796-bb78-4dd3-8d73-a35dca2aea72"
      },
      "outputs": [
        {
          "output_type": "display_data",
          "data": {
            "text/plain": [
              "<Figure size 576x576 with 1 Axes>"
            ],
            "image/png": "[encoded data removed]"
          },
          "metadata": {}
        }
      ],
      "source": [
        "youth_armViolent = armed_and_violent[armed_and_violent['age'] < 18].shape[0]\n",
        "youth_notArmViolent = unarmed_and_nonviolent[unarmed_and_nonviolent['age'] < 18].shape[0]\n",
        "\n",
        "y = np.array([youth_armViolent, youth_notArmViolent])\n",
        "labels = ['Armed Violent', 'Unarmed Dosile']\n",
        "\n",
        "plt.figure(figsize=(8, 8))\n",
        "plt.pie(y,\n",
        "        labels=labels, \n",
        "        explode=[0, 0.2], \n",
        "        colors=['royalblue', 'lime'], \n",
        "        shadow=True,\n",
        "        autopct='%1.1f%%',\n",
        "        startangle=90\n",
        "         )\n",
        "\n",
        "# draw circle\n",
        "centre_circle = plt.Circle((0, 0), 0.4, fc='white')\n",
        "fig = plt.gcf()\n",
        "  \n",
        "# Adding Circle in Pie chart\n",
        "fig.gca().add_artist(centre_circle)\n",
        "plt.title('Risk to Officer - Youth Victims Under 18 yrs')\n",
        "plt.show()"
      ]
    },
    {
      "cell_type": "markdown",
      "source": [
        "I did not expect to see that... It looks like youth are twice as likely to be killed in a police encounter even when unarmed and dosile. I had expected it to go the other way."
      ],
      "metadata": {
        "id": "MxWKTKYzZPME"
      }
    },
    {
      "cell_type": "markdown",
      "metadata": {
        "id": "AyukoXpkyPo9"
      },
      "source": [
        "#### Q4: What is the prevelance of mental illness in the youth deaths?"
      ]
    },
    {
      "cell_type": "code",
      "execution_count": null,
      "metadata": {
        "id": "2E9fujgkyPpF",
        "colab": {
          "base_uri": "https://localhost:8080/",
          "height": 555
        },
        "outputId": "043430cd-e349-47f5-c028-d60a0fc045e2"
      },
      "outputs": [
        {
          "output_type": "display_data",
          "data": {
            "text/plain": [
              "<Figure size 1008x576 with 1 Axes>"
            ],
            "image/png": "[encoded data removed]"
          },
          "metadata": {
            "needs_background": "light"
          }
        }
      ],
      "source": [
        "ill = len(youth_deaths[youth_deaths['signs_of_mental_illness'] == 'yes']) / len(youth_deaths) * 100\n",
        "\n",
        "plt.figure(figsize=(14,8))\n",
        "sns.countplot(x=youth_deaths['signs_of_mental_illness'])\n",
        "plt.xticks(rotation=90)\n",
        "plt.title(f'Mental Illness In Youths {ill:.2f}%')\n",
        "plt.ylabel('Deaths')\n",
        "plt.show()"
      ]
    },
    {
      "cell_type": "markdown",
      "metadata": {
        "id": "OayFoLX6yPpF"
      },
      "source": [
        "#### Q5: Which states have the most occurances of youth being killed by the police.\n",
        "\n",
        "Here we will do the same thing we did earlier to get the state comparison but this time for the youth dataset."
      ]
    },
    {
      "cell_type": "code",
      "execution_count": null,
      "metadata": {
        "id": "dsjpQ439yPpG",
        "colab": {
          "base_uri": "https://localhost:8080/",
          "height": 489
        },
        "outputId": "01fb2f86-5646-4227-c3d5-03d6c987dc1d"
      },
      "outputs": [
        {
          "output_type": "display_data",
          "data": {
            "text/plain": [
              "<Figure size 1008x576 with 1 Axes>"
            ],
            "image/png": "[encoded data removed]"
          },
          "metadata": {
            "needs_background": "light"
          }
        }
      ],
      "source": [
        "plt.figure(figsize=(14,8))\n",
        "sns.countplot(x=youth_deaths['state'])\n",
        "plt.xticks(rotation=90)\n",
        "plt.title('Youth Deaths by state')\n",
        "plt.ylabel('Deaths')\n",
        "plt.show()"
      ]
    },
    {
      "cell_type": "markdown",
      "source": [
        "The state distribution looks very similar to that of the general population with California followed by Texas then Florida."
      ],
      "metadata": {
        "id": "1d_uhhtfZxwJ"
      }
    },
    {
      "cell_type": "markdown",
      "source": [
        "#### Q6: How often was the victim trying to flee the police when they were killed?\n",
        "\n",
        "Let's use one more countplot to see if fleeing the cops is a contributing factor in these deaths."
      ],
      "metadata": {
        "id": "Q1kmlyqsaR6v"
      }
    },
    {
      "cell_type": "code",
      "execution_count": null,
      "metadata": {
        "id": "_kCb9IyhyPpG",
        "colab": {
          "base_uri": "https://localhost:8080/",
          "height": 496
        },
        "outputId": "102e8524-0ddd-48a0-a680-6172abb47e20"
      },
      "outputs": [
        {
          "output_type": "display_data",
          "data": {
            "text/plain": [
              "<Figure size 1008x576 with 1 Axes>"
            ],
            "image/png": "[encoded data removed]"
          },
          "metadata": {
            "needs_background": "light"
          }
        }
      ],
      "source": [
        "plt.figure(figsize=(14,8))\n",
        "sns.countplot(y=deaths_df['fleeing'])\n",
        "plt.xticks(rotation=90)\n",
        "plt.title('Victim Fleeing')\n",
        "plt.xlabel('Deaths')\n",
        "plt.ylabel('Fleeing')\n",
        "plt.show()"
      ]
    },
    {
      "cell_type": "markdown",
      "source": [
        "It appears that around half of the time the deceased was attempting to evade law enforcment."
      ],
      "metadata": {
        "id": "P7ZDXHxLbJJn"
      }
    },
    {
      "cell_type": "code",
      "execution_count": null,
      "metadata": {
        "id": "14dxQZVzyPpG",
        "colab": {
          "base_uri": "https://localhost:8080/",
          "height": 540
        },
        "outputId": "356d8049-9a08-4872-cda0-99d87f417cfa"
      },
      "outputs": [
        {
          "output_type": "execute_result",
          "data": {
            "text/plain": [
              "           date armed   age gender race               city state  \\\n",
              "0    2015-01-02   yes  53.0      M    A            Shelton    WA   \n",
              "1    2015-01-02   yes  47.0      M    W              Aloha    OR   \n",
              "2    2015-01-03    no  23.0      M    H            Wichita    KS   \n",
              "3    2015-01-04   yes  32.0      M    W      San Francisco    CA   \n",
              "4    2015-01-04   yes  39.0      M    H              Evans    CO   \n",
              "...         ...   ...   ...    ...  ...                ...   ...   \n",
              "7621 2022-07-30   yes  27.0      M    W          Rochester    MN   \n",
              "7662 2022-08-15   yes  32.0      M    B  Miami-Dade County    FL   \n",
              "7691 2022-08-27   yes  50.0      M    W         Charleston    WV   \n",
              "7702 2022-08-30    no  20.0      M    B           Columbus    OH   \n",
              "7726 2022-09-07   yes  61.0      M    B          St. Louis    MO   \n",
              "\n",
              "     signs_of_mental_illness violent fleeing  body_camera  \n",
              "0                        yes     yes      no        False  \n",
              "1                         no     yes      no        False  \n",
              "2                         no      no      no        False  \n",
              "3                        yes     yes      no        False  \n",
              "4                         no     yes      no        False  \n",
              "...                      ...     ...     ...          ...  \n",
              "7621                      no      no      no         True  \n",
              "7662                      no     yes     yes        False  \n",
              "7691                      no     yes      no        False  \n",
              "7702                      no      no      no         True  \n",
              "7726                      no      no      no        False  \n",
              "\n",
              "[5465 rows x 11 columns]"
            ],
            "text/html": [
              "\n",
              "  <div id=\"df-b5432fff-ae26-4909-89c4-d71862eace0c\">\n",
              "    <div class=\"colab-df-container\">\n",
              "      <div>\n",
              "<style scoped>\n",
              "    .dataframe tbody tr th:only-of-type {\n",
              "        vertical-align: middle;\n",
              "    }\n",
              "\n",
              "    .dataframe tbody tr th {\n",
              "        vertical-align: top;\n",
              "    }\n",
              "\n",
              "    .dataframe thead th {\n",
              "        text-align: right;\n",
              "    }\n",
              "</style>\n",
              "<table border=\"1\" class=\"dataframe\">\n",
              "  <thead>\n",
              "    <tr style=\"text-align: right;\">\n",
              "      <th></th>\n",
              "      <th>date</th>\n",
              "      <th>armed</th>\n",
              "      <th>age</th>\n",
              "      <th>gender</th>\n",
              "      <th>race</th>\n",
              "      <th>city</th>\n",
              "      <th>state</th>\n",
              "      <th>signs_of_mental_illness</th>\n",
              "      <th>violent</th>\n",
              "      <th>fleeing</th>\n",
              "      <th>body_camera</th>\n",
              "    </tr>\n",
              "  </thead>\n",
              "  <tbody>\n",
              "    <tr>\n",
              "      <th>0</th>\n",
              "      <td>2015-01-02</td>\n",
              "      <td>yes</td>\n",
              "      <td>53.0</td>\n",
              "      <td>M</td>\n",
              "      <td>A</td>\n",
              "      <td>Shelton</td>\n",
              "      <td>WA</td>\n",
              "      <td>yes</td>\n",
              "      <td>yes</td>\n",
              "      <td>no</td>\n",
              "      <td>False</td>\n",
              "    </tr>\n",
              "    <tr>\n",
              "      <th>1</th>\n",
              "      <td>2015-01-02</td>\n",
              "      <td>yes</td>\n",
              "      <td>47.0</td>\n",
              "      <td>M</td>\n",
              "      <td>W</td>\n",
              "      <td>Aloha</td>\n",
              "      <td>OR</td>\n",
              "      <td>no</td>\n",
              "      <td>yes</td>\n",
              "      <td>no</td>\n",
              "      <td>False</td>\n",
              "    </tr>\n",
              "    <tr>\n",
              "      <th>2</th>\n",
              "      <td>2015-01-03</td>\n",
              "      <td>no</td>\n",
              "      <td>23.0</td>\n",
              "      <td>M</td>\n",
              "      <td>H</td>\n",
              "      <td>Wichita</td>\n",
              "      <td>KS</td>\n",
              "      <td>no</td>\n",
              "      <td>no</td>\n",
              "      <td>no</td>\n",
              "      <td>False</td>\n",
              "    </tr>\n",
              "    <tr>\n",
              "      <th>3</th>\n",
              "      <td>2015-01-04</td>\n",
              "      <td>yes</td>\n",
              "      <td>32.0</td>\n",
              "      <td>M</td>\n",
              "      <td>W</td>\n",
              "      <td>San Francisco</td>\n",
              "      <td>CA</td>\n",
              "      <td>yes</td>\n",
              "      <td>yes</td>\n",
              "      <td>no</td>\n",
              "      <td>False</td>\n",
              "    </tr>\n",
              "    <tr>\n",
              "      <th>4</th>\n",
              "      <td>2015-01-04</td>\n",
              "      <td>yes</td>\n",
              "      <td>39.0</td>\n",
              "      <td>M</td>\n",
              "      <td>H</td>\n",
              "      <td>Evans</td>\n",
              "      <td>CO</td>\n",
              "      <td>no</td>\n",
              "      <td>yes</td>\n",
              "      <td>no</td>\n",
              "      <td>False</td>\n",
              "    </tr>\n",
              "    <tr>\n",
              "      <th>...</th>\n",
              "      <td>...</td>\n",
              "      <td>...</td>\n",
              "      <td>...</td>\n",
              "      <td>...</td>\n",
              "      <td>...</td>\n",
              "      <td>...</td>\n",
              "      <td>...</td>\n",
              "      <td>...</td>\n",
              "      <td>...</td>\n",
              "      <td>...</td>\n",
              "      <td>...</td>\n",
              "    </tr>\n",
              "    <tr>\n",
              "      <th>7621</th>\n",
              "      <td>2022-07-30</td>\n",
              "      <td>yes</td>\n",
              "      <td>27.0</td>\n",
              "      <td>M</td>\n",
              "      <td>W</td>\n",
              "      <td>Rochester</td>\n",
              "      <td>MN</td>\n",
              "      <td>no</td>\n",
              "      <td>no</td>\n",
              "      <td>no</td>\n",
              "      <td>True</td>\n",
              "    </tr>\n",
              "    <tr>\n",
              "      <th>7662</th>\n",
              "      <td>2022-08-15</td>\n",
              "      <td>yes</td>\n",
              "      <td>32.0</td>\n",
              "      <td>M</td>\n",
              "      <td>B</td>\n",
              "      <td>Miami-Dade County</td>\n",
              "      <td>FL</td>\n",
              "      <td>no</td>\n",
              "      <td>yes</td>\n",
              "      <td>yes</td>\n",
              "      <td>False</td>\n",
              "    </tr>\n",
              "    <tr>\n",
              "      <th>7691</th>\n",
              "      <td>2022-08-27</td>\n",
              "      <td>yes</td>\n",
              "      <td>50.0</td>\n",
              "      <td>M</td>\n",
              "      <td>W</td>\n",
              "      <td>Charleston</td>\n",
              "      <td>WV</td>\n",
              "      <td>no</td>\n",
              "      <td>yes</td>\n",
              "      <td>no</td>\n",
              "      <td>False</td>\n",
              "    </tr>\n",
              "    <tr>\n",
              "      <th>7702</th>\n",
              "      <td>2022-08-30</td>\n",
              "      <td>no</td>\n",
              "      <td>20.0</td>\n",
              "      <td>M</td>\n",
              "      <td>B</td>\n",
              "      <td>Columbus</td>\n",
              "      <td>OH</td>\n",
              "      <td>no</td>\n",
              "      <td>no</td>\n",
              "      <td>no</td>\n",
              "      <td>True</td>\n",
              "    </tr>\n",
              "    <tr>\n",
              "      <th>7726</th>\n",
              "      <td>2022-09-07</td>\n",
              "      <td>yes</td>\n",
              "      <td>61.0</td>\n",
              "      <td>M</td>\n",
              "      <td>B</td>\n",
              "      <td>St. Louis</td>\n",
              "      <td>MO</td>\n",
              "      <td>no</td>\n",
              "      <td>no</td>\n",
              "      <td>no</td>\n",
              "      <td>False</td>\n",
              "    </tr>\n",
              "  </tbody>\n",
              "</table>\n",
              "<p>5465 rows × 11 columns</p>\n",
              "</div>\n",
              "      <button class=\"colab-df-convert\" onclick=\"convertToInteractive('df-b5432fff-ae26-4909-89c4-d71862eace0c')\"\n",
              "              title=\"Convert this dataframe to an interactive table.\"\n",
              "              style=\"display:none;\">\n",
              "        \n",
              "  <svg xmlns=\"http://www.w3.org/2000/svg\" height=\"24px\"viewBox=\"0 0 24 24\"\n",
              "       width=\"24px\">\n",
              "    <path d=\"M0 0h24v24H0V0z\" fill=\"none\"/>\n",
              "    <path d=\"M18.56 5.44l.94 2.06.94-2.06 2.06-.94-2.06-.94-.94-2.06-.94 2.06-2.06.94zm-11 1L8.5 8.5l.94-2.06 2.06-.94-2.06-.94L8.5 2.5l-.94 2.06-2.06.94zm10 10l.94 2.06.94-2.06 2.06-.94-2.06-.94-.94-2.06-.94 2.06-2.06.94z\"/><path d=\"M17.41 7.96l-1.37-1.37c-.4-.4-.92-.59-1.43-.59-.52 0-1.04.2-1.43.59L10.3 9.45l-7.72 7.72c-.78.78-.78 2.05 0 2.83L4 21.41c.39.39.9.59 1.41.59.51 0 1.02-.2 1.41-.59l7.78-7.78 2.81-2.81c.8-.78.8-2.07 0-2.86zM5.41 20L4 18.59l7.72-7.72 1.47 1.35L5.41 20z\"/>\n",
              "  </svg>\n",
              "      </button>\n",
              "      \n",
              "  <style>\n",
              "    .colab-df-container {\n",
              "      display:flex;\n",
              "      flex-wrap:wrap;\n",
              "      gap: 12px;\n",
              "    }\n",
              "\n",
              "    .colab-df-convert {\n",
              "      background-color: #E8F0FE;\n",
              "      border: none;\n",
              "      border-radius: 50%;\n",
              "      cursor: pointer;\n",
              "      display: none;\n",
              "      fill: #1967D2;\n",
              "      height: 32px;\n",
              "      padding: 0 0 0 0;\n",
              "      width: 32px;\n",
              "    }\n",
              "\n",
              "    .colab-df-convert:hover {\n",
              "      background-color: #E2EBFA;\n",
              "      box-shadow: 0px 1px 2px rgba(60, 64, 67, 0.3), 0px 1px 3px 1px rgba(60, 64, 67, 0.15);\n",
              "      fill: #174EA6;\n",
              "    }\n",
              "\n",
              "    [theme=dark] .colab-df-convert {\n",
              "      background-color: #3B4455;\n",
              "      fill: #D2E3FC;\n",
              "    }\n",
              "\n",
              "    [theme=dark] .colab-df-convert:hover {\n",
              "      background-color: #434B5C;\n",
              "      box-shadow: 0px 1px 3px 1px rgba(0, 0, 0, 0.15);\n",
              "      filter: drop-shadow(0px 1px 2px rgba(0, 0, 0, 0.3));\n",
              "      fill: #FFFFFF;\n",
              "    }\n",
              "  </style>\n",
              "\n",
              "      <script>\n",
              "        const buttonEl =\n",
              "          document.querySelector('#df-b5432fff-ae26-4909-89c4-d71862eace0c button.colab-df-convert');\n",
              "        buttonEl.style.display =\n",
              "          google.colab.kernel.accessAllowed ? 'block' : 'none';\n",
              "\n",
              "        async function convertToInteractive(key) {\n",
              "          const element = document.querySelector('#df-b5432fff-ae26-4909-89c4-d71862eace0c');\n",
              "          const dataTable =\n",
              "            await google.colab.kernel.invokeFunction('convertToInteractive',\n",
              "                                                     [key], {});\n",
              "          if (!dataTable) return;\n",
              "\n",
              "          const docLinkHtml = 'Like what you see? Visit the ' +\n",
              "            '<a target=\"_blank\" href=https://colab.research.google.com/notebooks/data_table.ipynb>data table notebook</a>'\n",
              "            + ' to learn more about interactive tables.';\n",
              "          element.innerHTML = '';\n",
              "          dataTable['output_type'] = 'display_data';\n",
              "          await google.colab.output.renderOutput(dataTable, element);\n",
              "          const docLink = document.createElement('div');\n",
              "          docLink.innerHTML = docLinkHtml;\n",
              "          element.appendChild(docLink);\n",
              "        }\n",
              "      </script>\n",
              "    </div>\n",
              "  </div>\n",
              "  "
            ]
          },
          "metadata": {},
          "execution_count": 77
        }
      ],
      "source": [
        "deaths_df"
      ]
    },
    {
      "cell_type": "markdown",
      "metadata": {
        "id": "SNxmSR-eyPpG"
      },
      "source": [
        "Let us save and upload our work to Jovian before continuing."
      ]
    },
    {
      "cell_type": "markdown",
      "metadata": {
        "id": "mdfCAZbUyPpG"
      },
      "source": [
        "## Inferences and Conclusion\n",
        "\n",
        "While this analysis only scratches the surface of a complex issue it did show some interesting results. \n",
        "\n",
        "I thought that mentall illness would be a more significant factor in these situations, I would have estimated 50% but the data shows that only about 1/6 of the time there was obvious mental illness affecting the deceased persons behaviour. \n",
        "\n",
        "Around 1 in 10 of the victims were what many would consider a non threat to the officers, by which I mean they were neither armed nor violent. There doesn't appear to be the singling out of dosile black people by law enforcment which is contrary to allot of the things we have been hearing from the media.\n",
        "\n",
        "The states with the highest number of occurances are California, Texas and Florida. Population most likely accounts for some of the differences between states. Related to that, with a larger population there is inevidibly more crime, however politics and local policy probably also plays a role, California is know to have a major crime problem.\n",
        "\n",
        "Sadly the percentage of unarmed and non violent youths gunned down by the police was double that of the general population. I also would have guessed the opposite before doing this analysis. \n",
        "\n",
        "Around 50% of the time the victim was trying to run away from the police which seems to make them react more extremely, despite being a natural human reaction (evading captivity)."
      ]
    },
    {
      "cell_type": "markdown",
      "metadata": {
        "id": "bOFXnLpzyPpH"
      },
      "source": [
        "## References and Future Work\n",
        "\n",
        "There is so much more digging to be done on this subject. A team could use the original ID column to learn more about each of the deaths and possibly find more pertinant aspects to the situation. I don't have the time to do that but it seems like it would add some valuable context. \n",
        "\n",
        "It might be insightful to match the deaths by state to the portion of the American population in each state to see if the rates are based on the number of residents. \n",
        "\n",
        "The weapons could be broken down individually and assigned a threat level based on the danger posed by someone weilding each weapon.\n",
        "\n",
        "You could pretty much dive deep into each feature to gain more contextual information. Generalizing to 'police are abusing power' or 'police are just doing their job' would be an abuse of such preliminary findings. You might reach completely different conclusions with more detailed and robust data. \n",
        "\n",
        "<hr />\n",
        "\n",
        "I didn't use a whole lot of external resources for this project. There are 2 places where I learned about data analysis and they are:\n",
        "- [Jovian](https://forum.jovian.ai), hands down the best resource I used. \n",
        "- [Free Code Camp](https://www.freecodecamp.org/), another excellent coding resource.\n",
        "\n",
        "To find out the details for using various plotting libraries and dataframe operations I consulted the following documentations:\n",
        "- [Pandas](https://pandas.pydata.org/)\n",
        "- [Matplotlib](https://matplotlib.org/)\n",
        "- [Seaborn](https://seaborn.pydata.org/)\n",
        "\n",
        "For general quick guides on a variety of methods:\n",
        "- [Geeks For Geeks](https://www.geeksforgeeks.org/), a great place to find all sorts of quick examples in many differernt programming languages. Often my first stop when learning something new."
      ]
    }
  ],
  "metadata": {
    "kernelspec": {
      "display_name": "Python 3",
      "language": "python",
      "name": "python3"
    },
    "language_info": {
      "codemirror_mode": {
        "name": "ipython",
        "version": 3
      },
      "file_extension": ".py",
      "mimetype": "text/x-python",
      "name": "python",
      "nbconvert_exporter": "python",
      "pygments_lexer": "ipython3",
      "version": "3.8.5"
    },
    "colab": {
      "provenance": [],
      "collapsed_sections": []
    }
  },
  "nbformat": 4,
  "nbformat_minor": 0
}